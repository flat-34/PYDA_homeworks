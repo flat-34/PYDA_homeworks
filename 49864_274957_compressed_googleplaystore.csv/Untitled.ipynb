{
 "cells": [
  {
   "cell_type": "markdown",
   "metadata": {},
   "source": [
    "### Визуализация данных"
   ]
  },
  {
   "cell_type": "markdown",
   "metadata": {},
   "source": [
    " построить не менее 4 визуализаций различных видов;\n",
    " \n",
    " каждая визуализация должным образом оформлена и читается даже в отрыве от контекста;\n",
    " \n",
    " по каждой визуализации необходимо написать вывод (какую гипотезу на ее основе можно выдвинуть?)."
   ]
  },
  {
   "cell_type": "markdown",
   "metadata": {},
   "source": [
    "#### Работаем с данными приложений из Google Play"
   ]
  },
  {
   "cell_type": "code",
   "execution_count": 40,
   "metadata": {},
   "outputs": [],
   "source": [
    "import pandas as pd\n",
    "import matplotlib.pyplot as plt"
   ]
  },
  {
   "cell_type": "code",
   "execution_count": 41,
   "metadata": {},
   "outputs": [],
   "source": [
    "apps_google_play = pd.read_csv(\n",
    "    'googleplaystore.csv'\n",
    ")\n",
    "\n",
    "apps_google_play = apps_google_play.dropna() ### Убираем все пустые строки "
   ]
  },
  {
   "cell_type": "code",
   "execution_count": 42,
   "metadata": {},
   "outputs": [
    {
     "data": {
      "text/html": [
       "<div>\n",
       "<style scoped>\n",
       "    .dataframe tbody tr th:only-of-type {\n",
       "        vertical-align: middle;\n",
       "    }\n",
       "\n",
       "    .dataframe tbody tr th {\n",
       "        vertical-align: top;\n",
       "    }\n",
       "\n",
       "    .dataframe thead th {\n",
       "        text-align: right;\n",
       "    }\n",
       "</style>\n",
       "<table border=\"1\" class=\"dataframe\">\n",
       "  <thead>\n",
       "    <tr style=\"text-align: right;\">\n",
       "      <th></th>\n",
       "      <th>App</th>\n",
       "      <th>Category</th>\n",
       "      <th>Rating</th>\n",
       "      <th>Reviews</th>\n",
       "      <th>Size</th>\n",
       "      <th>Installs</th>\n",
       "      <th>Type</th>\n",
       "      <th>Price</th>\n",
       "      <th>Content Rating</th>\n",
       "      <th>Genres</th>\n",
       "      <th>Last Updated</th>\n",
       "      <th>Current Ver</th>\n",
       "      <th>Android Ver</th>\n",
       "    </tr>\n",
       "  </thead>\n",
       "  <tbody>\n",
       "    <tr>\n",
       "      <th>0</th>\n",
       "      <td>Photo Editor &amp; Candy Camera &amp; Grid &amp; ScrapBook</td>\n",
       "      <td>ART_AND_DESIGN</td>\n",
       "      <td>4.1</td>\n",
       "      <td>159</td>\n",
       "      <td>19M</td>\n",
       "      <td>10,000+</td>\n",
       "      <td>Free</td>\n",
       "      <td>0</td>\n",
       "      <td>Everyone</td>\n",
       "      <td>Art &amp; Design</td>\n",
       "      <td>January 7, 2018</td>\n",
       "      <td>1.0.0</td>\n",
       "      <td>4.0.3 and up</td>\n",
       "    </tr>\n",
       "    <tr>\n",
       "      <th>1</th>\n",
       "      <td>Coloring book moana</td>\n",
       "      <td>ART_AND_DESIGN</td>\n",
       "      <td>3.9</td>\n",
       "      <td>967</td>\n",
       "      <td>14M</td>\n",
       "      <td>500,000+</td>\n",
       "      <td>Free</td>\n",
       "      <td>0</td>\n",
       "      <td>Everyone</td>\n",
       "      <td>Art &amp; Design;Pretend Play</td>\n",
       "      <td>January 15, 2018</td>\n",
       "      <td>2.0.0</td>\n",
       "      <td>4.0.3 and up</td>\n",
       "    </tr>\n",
       "    <tr>\n",
       "      <th>2</th>\n",
       "      <td>U Launcher Lite – FREE Live Cool Themes, Hide ...</td>\n",
       "      <td>ART_AND_DESIGN</td>\n",
       "      <td>4.7</td>\n",
       "      <td>87510</td>\n",
       "      <td>8.7M</td>\n",
       "      <td>5,000,000+</td>\n",
       "      <td>Free</td>\n",
       "      <td>0</td>\n",
       "      <td>Everyone</td>\n",
       "      <td>Art &amp; Design</td>\n",
       "      <td>August 1, 2018</td>\n",
       "      <td>1.2.4</td>\n",
       "      <td>4.0.3 and up</td>\n",
       "    </tr>\n",
       "    <tr>\n",
       "      <th>3</th>\n",
       "      <td>Sketch - Draw &amp; Paint</td>\n",
       "      <td>ART_AND_DESIGN</td>\n",
       "      <td>4.5</td>\n",
       "      <td>215644</td>\n",
       "      <td>25M</td>\n",
       "      <td>50,000,000+</td>\n",
       "      <td>Free</td>\n",
       "      <td>0</td>\n",
       "      <td>Teen</td>\n",
       "      <td>Art &amp; Design</td>\n",
       "      <td>June 8, 2018</td>\n",
       "      <td>Varies with device</td>\n",
       "      <td>4.2 and up</td>\n",
       "    </tr>\n",
       "    <tr>\n",
       "      <th>4</th>\n",
       "      <td>Pixel Draw - Number Art Coloring Book</td>\n",
       "      <td>ART_AND_DESIGN</td>\n",
       "      <td>4.3</td>\n",
       "      <td>967</td>\n",
       "      <td>2.8M</td>\n",
       "      <td>100,000+</td>\n",
       "      <td>Free</td>\n",
       "      <td>0</td>\n",
       "      <td>Everyone</td>\n",
       "      <td>Art &amp; Design;Creativity</td>\n",
       "      <td>June 20, 2018</td>\n",
       "      <td>1.1</td>\n",
       "      <td>4.4 and up</td>\n",
       "    </tr>\n",
       "  </tbody>\n",
       "</table>\n",
       "</div>"
      ],
      "text/plain": [
       "                                                 App        Category  Rating  \\\n",
       "0     Photo Editor & Candy Camera & Grid & ScrapBook  ART_AND_DESIGN     4.1   \n",
       "1                                Coloring book moana  ART_AND_DESIGN     3.9   \n",
       "2  U Launcher Lite – FREE Live Cool Themes, Hide ...  ART_AND_DESIGN     4.7   \n",
       "3                              Sketch - Draw & Paint  ART_AND_DESIGN     4.5   \n",
       "4              Pixel Draw - Number Art Coloring Book  ART_AND_DESIGN     4.3   \n",
       "\n",
       "  Reviews  Size     Installs  Type Price Content Rating  \\\n",
       "0     159   19M      10,000+  Free     0       Everyone   \n",
       "1     967   14M     500,000+  Free     0       Everyone   \n",
       "2   87510  8.7M   5,000,000+  Free     0       Everyone   \n",
       "3  215644   25M  50,000,000+  Free     0           Teen   \n",
       "4     967  2.8M     100,000+  Free     0       Everyone   \n",
       "\n",
       "                      Genres      Last Updated         Current Ver  \\\n",
       "0               Art & Design   January 7, 2018               1.0.0   \n",
       "1  Art & Design;Pretend Play  January 15, 2018               2.0.0   \n",
       "2               Art & Design    August 1, 2018               1.2.4   \n",
       "3               Art & Design      June 8, 2018  Varies with device   \n",
       "4    Art & Design;Creativity     June 20, 2018                 1.1   \n",
       "\n",
       "    Android Ver  \n",
       "0  4.0.3 and up  \n",
       "1  4.0.3 and up  \n",
       "2  4.0.3 and up  \n",
       "3    4.2 and up  \n",
       "4    4.4 and up  "
      ]
     },
     "execution_count": 42,
     "metadata": {},
     "output_type": "execute_result"
    }
   ],
   "source": [
    "apps_google_play.head() ### Общий вид таблицы "
   ]
  },
  {
   "cell_type": "markdown",
   "metadata": {},
   "source": [
    "### Анализ поставленных оценок"
   ]
  },
  {
   "cell_type": "markdown",
   "metadata": {},
   "source": [
    "Мы проверяем, отношение пользователей к приложениям на Google Play. Из полученной информации делаем вывод, что качество приложений на Google Play хорошее. Пользователи очень редко ставят плохие оценки, а это значит что поиск работает хорошо. Средняя оценка в районе 4 что можно считать положительным фактором."
   ]
  },
  {
   "cell_type": "code",
   "execution_count": 21,
   "metadata": {
    "scrolled": true
   },
   "outputs": [
    {
     "data": {
      "text/plain": [
       "Text(0, 0.5, 'Кол-во оценок')"
      ]
     },
     "execution_count": 21,
     "metadata": {},
     "output_type": "execute_result"
    },
    {
     "data": {
      "image/png": "[encoded data removed]",
      "text/plain": [
       "<Figure size 432x288 with 1 Axes>"
      ]
     },
     "metadata": {
      "needs_background": "light"
     },
     "output_type": "display_data"
    }
   ],
   "source": [
    "rates = apps_google_play.Rating.hist(bins=40)\n",
    "rates.set_title('Оценка рейтинга')\n",
    "plt.xlabel('Рейтинг')\n",
    "plt.ylabel('Кол-во оценок')"
   ]
  },
  {
   "cell_type": "markdown",
   "metadata": {},
   "source": [
    "### Анализ приложений по категориям"
   ]
  },
  {
   "cell_type": "markdown",
   "metadata": {},
   "source": [
    "Больше всего приложений из категории \"Family\", следом категория \"Game\" и тд."
   ]
  },
  {
   "cell_type": "code",
   "execution_count": 43,
   "metadata": {},
   "outputs": [
    {
     "data": {
      "text/plain": [
       "Text(0.5, 1.0, 'Кол-во приложений')"
      ]
     },
     "execution_count": 43,
     "metadata": {},
     "output_type": "execute_result"
    },
    {
     "data": {
      "image/png": "[encoded data removed]",
      "text/plain": [
       "<Figure size 1080x360 with 1 Axes>"
      ]
     },
     "metadata": {
      "needs_background": "light"
     },
     "output_type": "display_data"
    }
   ],
   "source": [
    "total_category = apps_google_play['Category'].value_counts()\n",
    "\n",
    "tst = pd.DataFrame(total_category)\n",
    "app_by_category = tst.plot(kind='bar', rot=90, figsize=(15,5))\n",
    "app_by_category.set_title('Кол-во приложений')"
   ]
  },
  {
   "cell_type": "markdown",
   "metadata": {},
   "source": [
    "### Анализ платных и бесплатных программ."
   ]
  },
  {
   "cell_type": "markdown",
   "metadata": {},
   "source": [
    "Процент платных программ несоизмеримо мал по сравнению с бесплатными программами. Возможно разроботчикам нужно увеличить кол-во демо версий приложений с более привлекательной проработкой для привления клиентов к покупкам платных версий.  "
   ]
  },
  {
   "cell_type": "code",
   "execution_count": 44,
   "metadata": {},
   "outputs": [
    {
     "data": {
      "text/plain": [
       "Text(0.5, 1.0, 'Количество платных и бесплатных приложений')"
      ]
     },
     "execution_count": 44,
     "metadata": {},
     "output_type": "execute_result"
    },
    {
     "data": {
      "image/png": "[encoded data removed]",
      "text/plain": [
       "<Figure size 432x288 with 1 Axes>"
      ]
     },
     "metadata": {},
     "output_type": "display_data"
    }
   ],
   "source": [
    "free_paid = apps_google_play['Type'].value_counts()    \n",
    "free_apps = free_paid.plot(kind='pie')\n",
    "free_apps.set_title('Количество платных и бесплатных приложений')"
   ]
  },
  {
   "cell_type": "markdown",
   "metadata": {},
   "source": [
    "### Анализ оценок "
   ]
  },
  {
   "cell_type": "markdown",
   "metadata": {},
   "source": [
    " Мы видим, что больше всего оценок у категории \"Game\". Возможно это связано с тем, что игры в большей степени остаются бесплатными с ожидаемым качеством."
   ]
  },
  {
   "cell_type": "code",
   "execution_count": 48,
   "metadata": {},
   "outputs": [],
   "source": [
    "\n",
    "apps_google_play['Reviews'] = apps_google_play.Reviews.astype('int64')"
   ]
  },
  {
   "cell_type": "code",
   "execution_count": 49,
   "metadata": {},
   "outputs": [],
   "source": [
    "top_developers_df = apps_google_play.groupby('Category')[['Reviews']].sum()\\\n",
    "    .sort_values('Reviews', ascending=False)"
   ]
  },
  {
   "cell_type": "code",
   "execution_count": 47,
   "metadata": {},
   "outputs": [
    {
     "data": {
      "text/html": [
       "<style  type=\"text/css\" >\n",
       "    #T_134eb26e_f1bb_11ea_a524_a44cc85d9493row0_col0 {\n",
       "            width:  10em;\n",
       "             height:  80%;\n",
       "            background:  linear-gradient(90deg,#d65f5f 100.0%, transparent 100.0%);\n",
       "        }    #T_134eb26e_f1bb_11ea_a524_a44cc85d9493row1_col0 {\n",
       "            width:  10em;\n",
       "             height:  80%;\n",
       "            background:  linear-gradient(90deg,#d65f5f 51.4%, transparent 51.4%);\n",
       "        }    #T_134eb26e_f1bb_11ea_a524_a44cc85d9493row2_col0 {\n",
       "            width:  10em;\n",
       "             height:  80%;\n",
       "            background:  linear-gradient(90deg,#d65f5f 39.2%, transparent 39.2%);\n",
       "        }    #T_134eb26e_f1bb_11ea_a524_a44cc85d9493row3_col0 {\n",
       "            width:  10em;\n",
       "             height:  80%;\n",
       "            background:  linear-gradient(90deg,#d65f5f 25.9%, transparent 25.9%);\n",
       "        }    #T_134eb26e_f1bb_11ea_a524_a44cc85d9493row4_col0 {\n",
       "            width:  10em;\n",
       "             height:  80%;\n",
       "            background:  linear-gradient(90deg,#d65f5f 17.2%, transparent 17.2%);\n",
       "        }    #T_134eb26e_f1bb_11ea_a524_a44cc85d9493row5_col0 {\n",
       "            width:  10em;\n",
       "             height:  80%;\n",
       "            background:  linear-gradient(90deg,#d65f5f 13.5%, transparent 13.5%);\n",
       "        }    #T_134eb26e_f1bb_11ea_a524_a44cc85d9493row6_col0 {\n",
       "            width:  10em;\n",
       "             height:  80%;\n",
       "            background:  linear-gradient(90deg,#d65f5f 7.2%, transparent 7.2%);\n",
       "        }    #T_134eb26e_f1bb_11ea_a524_a44cc85d9493row7_col0 {\n",
       "            width:  10em;\n",
       "             height:  80%;\n",
       "            background:  linear-gradient(90deg,#d65f5f 7.2%, transparent 7.2%);\n",
       "        }    #T_134eb26e_f1bb_11ea_a524_a44cc85d9493row8_col0 {\n",
       "            width:  10em;\n",
       "             height:  80%;\n",
       "            background:  linear-gradient(90deg,#d65f5f 7.0%, transparent 7.0%);\n",
       "        }    #T_134eb26e_f1bb_11ea_a524_a44cc85d9493row9_col0 {\n",
       "            width:  10em;\n",
       "             height:  80%;\n",
       "            background:  linear-gradient(90deg,#d65f5f 5.6%, transparent 5.6%);\n",
       "        }    #T_134eb26e_f1bb_11ea_a524_a44cc85d9493row10_col0 {\n",
       "            width:  10em;\n",
       "             height:  80%;\n",
       "            background:  linear-gradient(90deg,#d65f5f 4.5%, transparent 4.5%);\n",
       "        }    #T_134eb26e_f1bb_11ea_a524_a44cc85d9493row11_col0 {\n",
       "            width:  10em;\n",
       "             height:  80%;\n",
       "            background:  linear-gradient(90deg,#d65f5f 3.9%, transparent 3.9%);\n",
       "        }    #T_134eb26e_f1bb_11ea_a524_a44cc85d9493row12_col0 {\n",
       "            width:  10em;\n",
       "             height:  80%;\n",
       "            background:  linear-gradient(90deg,#d65f5f 3.7%, transparent 3.7%);\n",
       "        }    #T_134eb26e_f1bb_11ea_a524_a44cc85d9493row13_col0 {\n",
       "            width:  10em;\n",
       "             height:  80%;\n",
       "            background:  linear-gradient(90deg,#d65f5f 3.4%, transparent 3.4%);\n",
       "        }    #T_134eb26e_f1bb_11ea_a524_a44cc85d9493row14_col0 {\n",
       "            width:  10em;\n",
       "             height:  80%;\n",
       "            background:  linear-gradient(90deg,#d65f5f 2.5%, transparent 2.5%);\n",
       "        }    #T_134eb26e_f1bb_11ea_a524_a44cc85d9493row15_col0 {\n",
       "            width:  10em;\n",
       "             height:  80%;\n",
       "            background:  linear-gradient(90deg,#d65f5f 2.4%, transparent 2.4%);\n",
       "        }    #T_134eb26e_f1bb_11ea_a524_a44cc85d9493row16_col0 {\n",
       "            width:  10em;\n",
       "             height:  80%;\n",
       "            background:  linear-gradient(90deg,#d65f5f 1.9%, transparent 1.9%);\n",
       "        }    #T_134eb26e_f1bb_11ea_a524_a44cc85d9493row17_col0 {\n",
       "            width:  10em;\n",
       "             height:  80%;\n",
       "            background:  linear-gradient(90deg,#d65f5f 1.4%, transparent 1.4%);\n",
       "        }    #T_134eb26e_f1bb_11ea_a524_a44cc85d9493row18_col0 {\n",
       "            width:  10em;\n",
       "             height:  80%;\n",
       "            background:  linear-gradient(90deg,#d65f5f 1.1%, transparent 1.1%);\n",
       "        }    #T_134eb26e_f1bb_11ea_a524_a44cc85d9493row19_col0 {\n",
       "            width:  10em;\n",
       "             height:  80%;\n",
       "            background:  linear-gradient(90deg,#d65f5f 0.9%, transparent 0.9%);\n",
       "        }    #T_134eb26e_f1bb_11ea_a524_a44cc85d9493row20_col0 {\n",
       "            width:  10em;\n",
       "             height:  80%;\n",
       "            background:  linear-gradient(90deg,#d65f5f 0.9%, transparent 0.9%);\n",
       "        }    #T_134eb26e_f1bb_11ea_a524_a44cc85d9493row21_col0 {\n",
       "            width:  10em;\n",
       "             height:  80%;\n",
       "            background:  linear-gradient(90deg,#d65f5f 0.8%, transparent 0.8%);\n",
       "        }    #T_134eb26e_f1bb_11ea_a524_a44cc85d9493row22_col0 {\n",
       "            width:  10em;\n",
       "             height:  80%;\n",
       "            background:  linear-gradient(90deg,#d65f5f 0.6%, transparent 0.6%);\n",
       "        }    #T_134eb26e_f1bb_11ea_a524_a44cc85d9493row23_col0 {\n",
       "            width:  10em;\n",
       "             height:  80%;\n",
       "            background:  linear-gradient(90deg,#d65f5f 0.4%, transparent 0.4%);\n",
       "        }    #T_134eb26e_f1bb_11ea_a524_a44cc85d9493row24_col0 {\n",
       "            width:  10em;\n",
       "             height:  80%;\n",
       "            background:  linear-gradient(90deg,#d65f5f 0.2%, transparent 0.2%);\n",
       "        }    #T_134eb26e_f1bb_11ea_a524_a44cc85d9493row25_col0 {\n",
       "            width:  10em;\n",
       "             height:  80%;\n",
       "            background:  linear-gradient(90deg,#d65f5f 0.2%, transparent 0.2%);\n",
       "        }    #T_134eb26e_f1bb_11ea_a524_a44cc85d9493row26_col0 {\n",
       "            width:  10em;\n",
       "             height:  80%;\n",
       "            background:  linear-gradient(90deg,#d65f5f 0.1%, transparent 0.1%);\n",
       "        }    #T_134eb26e_f1bb_11ea_a524_a44cc85d9493row27_col0 {\n",
       "            width:  10em;\n",
       "             height:  80%;\n",
       "            background:  linear-gradient(90deg,#d65f5f 0.1%, transparent 0.1%);\n",
       "        }    #T_134eb26e_f1bb_11ea_a524_a44cc85d9493row28_col0 {\n",
       "            width:  10em;\n",
       "             height:  80%;\n",
       "            background:  linear-gradient(90deg,#d65f5f 0.1%, transparent 0.1%);\n",
       "        }    #T_134eb26e_f1bb_11ea_a524_a44cc85d9493row29_col0 {\n",
       "            width:  10em;\n",
       "             height:  80%;\n",
       "            background:  linear-gradient(90deg,#d65f5f 0.1%, transparent 0.1%);\n",
       "        }    #T_134eb26e_f1bb_11ea_a524_a44cc85d9493row30_col0 {\n",
       "            width:  10em;\n",
       "             height:  80%;\n",
       "            background:  linear-gradient(90deg,#d65f5f 0.1%, transparent 0.1%);\n",
       "        }    #T_134eb26e_f1bb_11ea_a524_a44cc85d9493row31_col0 {\n",
       "            width:  10em;\n",
       "             height:  80%;\n",
       "            background:  linear-gradient(90deg,#d65f5f 0.0%, transparent 0.0%);\n",
       "        }    #T_134eb26e_f1bb_11ea_a524_a44cc85d9493row32_col0 {\n",
       "            width:  10em;\n",
       "             height:  80%;\n",
       "        }</style><table id=\"T_134eb26e_f1bb_11ea_a524_a44cc85d9493\" ><thead>    <tr>        <th class=\"blank level0\" ></th>        <th class=\"col_heading level0 col0\" >Reviews</th>    </tr>    <tr>        <th class=\"index_name level0\" >Category</th>        <th class=\"blank\" ></th>    </tr></thead><tbody>\n",
       "                <tr>\n",
       "                        <th id=\"T_134eb26e_f1bb_11ea_a524_a44cc85d9493level0_row0\" class=\"row_heading level0 row0\" >GAME</th>\n",
       "                        <td id=\"T_134eb26e_f1bb_11ea_a524_a44cc85d9493row0_col0\" class=\"data row0 col0\" >1585419577</td>\n",
       "            </tr>\n",
       "            <tr>\n",
       "                        <th id=\"T_134eb26e_f1bb_11ea_a524_a44cc85d9493level0_row1\" class=\"row_heading level0 row1\" >COMMUNICATION</th>\n",
       "                        <td id=\"T_134eb26e_f1bb_11ea_a524_a44cc85d9493row1_col0\" class=\"data row1 col0\" >815461799</td>\n",
       "            </tr>\n",
       "            <tr>\n",
       "                        <th id=\"T_134eb26e_f1bb_11ea_a524_a44cc85d9493level0_row2\" class=\"row_heading level0 row2\" >SOCIAL</th>\n",
       "                        <td id=\"T_134eb26e_f1bb_11ea_a524_a44cc85d9493row2_col0\" class=\"data row2 col0\" >621241091</td>\n",
       "            </tr>\n",
       "            <tr>\n",
       "                        <th id=\"T_134eb26e_f1bb_11ea_a524_a44cc85d9493level0_row3\" class=\"row_heading level0 row3\" >FAMILY</th>\n",
       "                        <td id=\"T_134eb26e_f1bb_11ea_a524_a44cc85d9493row3_col0\" class=\"data row3 col0\" >410222902</td>\n",
       "            </tr>\n",
       "            <tr>\n",
       "                        <th id=\"T_134eb26e_f1bb_11ea_a524_a44cc85d9493level0_row4\" class=\"row_heading level0 row4\" >TOOLS</th>\n",
       "                        <td id=\"T_134eb26e_f1bb_11ea_a524_a44cc85d9493row4_col0\" class=\"data row4 col0\" >273180158</td>\n",
       "            </tr>\n",
       "            <tr>\n",
       "                        <th id=\"T_134eb26e_f1bb_11ea_a524_a44cc85d9493level0_row5\" class=\"row_heading level0 row5\" >PHOTOGRAPHY</th>\n",
       "                        <td id=\"T_134eb26e_f1bb_11ea_a524_a44cc85d9493row5_col0\" class=\"data row5 col0\" >213516607</td>\n",
       "            </tr>\n",
       "            <tr>\n",
       "                        <th id=\"T_134eb26e_f1bb_11ea_a524_a44cc85d9493level0_row6\" class=\"row_heading level0 row6\" >SHOPPING</th>\n",
       "                        <td id=\"T_134eb26e_f1bb_11ea_a524_a44cc85d9493row6_col0\" class=\"data row6 col0\" >115041033</td>\n",
       "            </tr>\n",
       "            <tr>\n",
       "                        <th id=\"T_134eb26e_f1bb_11ea_a524_a44cc85d9493level0_row7\" class=\"row_heading level0 row7\" >PRODUCTIVITY</th>\n",
       "                        <td id=\"T_134eb26e_f1bb_11ea_a524_a44cc85d9493row7_col0\" class=\"data row7 col0\" >114116717</td>\n",
       "            </tr>\n",
       "            <tr>\n",
       "                        <th id=\"T_134eb26e_f1bb_11ea_a524_a44cc85d9493level0_row8\" class=\"row_heading level0 row8\" >VIDEO_PLAYERS</th>\n",
       "                        <td id=\"T_134eb26e_f1bb_11ea_a524_a44cc85d9493row8_col0\" class=\"data row8 col0\" >110379692</td>\n",
       "            </tr>\n",
       "            <tr>\n",
       "                        <th id=\"T_134eb26e_f1bb_11ea_a524_a44cc85d9493level0_row9\" class=\"row_heading level0 row9\" >PERSONALIZATION</th>\n",
       "                        <td id=\"T_134eb26e_f1bb_11ea_a524_a44cc85d9493row9_col0\" class=\"data row9 col0\" >89345396</td>\n",
       "            </tr>\n",
       "            <tr>\n",
       "                        <th id=\"T_134eb26e_f1bb_11ea_a524_a44cc85d9493level0_row10\" class=\"row_heading level0 row10\" >SPORTS</th>\n",
       "                        <td id=\"T_134eb26e_f1bb_11ea_a524_a44cc85d9493row10_col0\" class=\"data row10 col0\" >70829568</td>\n",
       "            </tr>\n",
       "            <tr>\n",
       "                        <th id=\"T_134eb26e_f1bb_11ea_a524_a44cc85d9493level0_row11\" class=\"row_heading level0 row11\" >TRAVEL_AND_LOCAL</th>\n",
       "                        <td id=\"T_134eb26e_f1bb_11ea_a524_a44cc85d9493row11_col0\" class=\"data row11 col0\" >62617772</td>\n",
       "            </tr>\n",
       "            <tr>\n",
       "                        <th id=\"T_134eb26e_f1bb_11ea_a524_a44cc85d9493level0_row12\" class=\"row_heading level0 row12\" >ENTERTAINMENT</th>\n",
       "                        <td id=\"T_134eb26e_f1bb_11ea_a524_a44cc85d9493row12_col0\" class=\"data row12 col0\" >59178154</td>\n",
       "            </tr>\n",
       "            <tr>\n",
       "                        <th id=\"T_134eb26e_f1bb_11ea_a524_a44cc85d9493level0_row13\" class=\"row_heading level0 row13\" >NEWS_AND_MAGAZINES</th>\n",
       "                        <td id=\"T_134eb26e_f1bb_11ea_a524_a44cc85d9493row13_col0\" class=\"data row13 col0\" >54399899</td>\n",
       "            </tr>\n",
       "            <tr>\n",
       "                        <th id=\"T_134eb26e_f1bb_11ea_a524_a44cc85d9493level0_row14\" class=\"row_heading level0 row14\" >EDUCATION</th>\n",
       "                        <td id=\"T_134eb26e_f1bb_11ea_a524_a44cc85d9493row14_col0\" class=\"data row14 col0\" >39595010</td>\n",
       "            </tr>\n",
       "            <tr>\n",
       "                        <th id=\"T_134eb26e_f1bb_11ea_a524_a44cc85d9493level0_row15\" class=\"row_heading level0 row15\" >HEALTH_AND_FITNESS</th>\n",
       "                        <td id=\"T_134eb26e_f1bb_11ea_a524_a44cc85d9493row15_col0\" class=\"data row15 col0\" >37893622</td>\n",
       "            </tr>\n",
       "            <tr>\n",
       "                        <th id=\"T_134eb26e_f1bb_11ea_a524_a44cc85d9493level0_row16\" class=\"row_heading level0 row16\" >MAPS_AND_NAVIGATION</th>\n",
       "                        <td id=\"T_134eb26e_f1bb_11ea_a524_a44cc85d9493row16_col0\" class=\"data row16 col0\" >30659060</td>\n",
       "            </tr>\n",
       "            <tr>\n",
       "                        <th id=\"T_134eb26e_f1bb_11ea_a524_a44cc85d9493level0_row17\" class=\"row_heading level0 row17\" >BOOKS_AND_REFERENCE</th>\n",
       "                        <td id=\"T_134eb26e_f1bb_11ea_a524_a44cc85d9493row17_col0\" class=\"data row17 col0\" >21958660</td>\n",
       "            </tr>\n",
       "            <tr>\n",
       "                        <th id=\"T_134eb26e_f1bb_11ea_a524_a44cc85d9493level0_row18\" class=\"row_heading level0 row18\" >FINANCE</th>\n",
       "                        <td id=\"T_134eb26e_f1bb_11ea_a524_a44cc85d9493row18_col0\" class=\"data row18 col0\" >17550406</td>\n",
       "            </tr>\n",
       "            <tr>\n",
       "                        <th id=\"T_134eb26e_f1bb_11ea_a524_a44cc85d9493level0_row19\" class=\"row_heading level0 row19\" >WEATHER</th>\n",
       "                        <td id=\"T_134eb26e_f1bb_11ea_a524_a44cc85d9493row19_col0\" class=\"data row19 col0\" >14604695</td>\n",
       "            </tr>\n",
       "            <tr>\n",
       "                        <th id=\"T_134eb26e_f1bb_11ea_a524_a44cc85d9493level0_row20\" class=\"row_heading level0 row20\" >BUSINESS</th>\n",
       "                        <td id=\"T_134eb26e_f1bb_11ea_a524_a44cc85d9493row20_col0\" class=\"data row20 col0\" >13954086</td>\n",
       "            </tr>\n",
       "            <tr>\n",
       "                        <th id=\"T_134eb26e_f1bb_11ea_a524_a44cc85d9493level0_row21\" class=\"row_heading level0 row21\" >LIFESTYLE</th>\n",
       "                        <td id=\"T_134eb26e_f1bb_11ea_a524_a44cc85d9493row21_col0\" class=\"data row21 col0\" >12881769</td>\n",
       "            </tr>\n",
       "            <tr>\n",
       "                        <th id=\"T_134eb26e_f1bb_11ea_a524_a44cc85d9493level0_row22\" class=\"row_heading level0 row22\" >FOOD_AND_DRINK</th>\n",
       "                        <td id=\"T_134eb26e_f1bb_11ea_a524_a44cc85d9493row22_col0\" class=\"data row22 col0\" >8883009</td>\n",
       "            </tr>\n",
       "            <tr>\n",
       "                        <th id=\"T_134eb26e_f1bb_11ea_a524_a44cc85d9493level0_row23\" class=\"row_heading level0 row23\" >DATING</th>\n",
       "                        <td id=\"T_134eb26e_f1bb_11ea_a524_a44cc85d9493row23_col0\" class=\"data row23 col0\" >7291039</td>\n",
       "            </tr>\n",
       "            <tr>\n",
       "                        <th id=\"T_134eb26e_f1bb_11ea_a524_a44cc85d9493level0_row24\" class=\"row_heading level0 row24\" >HOUSE_AND_HOME</th>\n",
       "                        <td id=\"T_134eb26e_f1bb_11ea_a524_a44cc85d9493row24_col0\" class=\"data row24 col0\" >3976004</td>\n",
       "            </tr>\n",
       "            <tr>\n",
       "                        <th id=\"T_134eb26e_f1bb_11ea_a524_a44cc85d9493level0_row25\" class=\"row_heading level0 row25\" >COMICS</th>\n",
       "                        <td id=\"T_134eb26e_f1bb_11ea_a524_a44cc85d9493row25_col0\" class=\"data row25 col0\" >3381945</td>\n",
       "            </tr>\n",
       "            <tr>\n",
       "                        <th id=\"T_134eb26e_f1bb_11ea_a524_a44cc85d9493level0_row26\" class=\"row_heading level0 row26\" >ART_AND_DESIGN</th>\n",
       "                        <td id=\"T_134eb26e_f1bb_11ea_a524_a44cc85d9493row26_col0\" class=\"data row26 col0\" >1714317</td>\n",
       "            </tr>\n",
       "            <tr>\n",
       "                        <th id=\"T_134eb26e_f1bb_11ea_a524_a44cc85d9493level0_row27\" class=\"row_heading level0 row27\" >MEDICAL</th>\n",
       "                        <td id=\"T_134eb26e_f1bb_11ea_a524_a44cc85d9493row27_col0\" class=\"data row27 col0\" >1585622</td>\n",
       "            </tr>\n",
       "            <tr>\n",
       "                        <th id=\"T_134eb26e_f1bb_11ea_a524_a44cc85d9493level0_row28\" class=\"row_heading level0 row28\" >AUTO_AND_VEHICLES</th>\n",
       "                        <td id=\"T_134eb26e_f1bb_11ea_a524_a44cc85d9493row28_col0\" class=\"data row28 col0\" >1163630</td>\n",
       "            </tr>\n",
       "            <tr>\n",
       "                        <th id=\"T_134eb26e_f1bb_11ea_a524_a44cc85d9493level0_row29\" class=\"row_heading level0 row29\" >LIBRARIES_AND_DEMO</th>\n",
       "                        <td id=\"T_134eb26e_f1bb_11ea_a524_a44cc85d9493row29_col0\" class=\"data row29 col0\" >1013390</td>\n",
       "            </tr>\n",
       "            <tr>\n",
       "                        <th id=\"T_134eb26e_f1bb_11ea_a524_a44cc85d9493level0_row30\" class=\"row_heading level0 row30\" >PARENTING</th>\n",
       "                        <td id=\"T_134eb26e_f1bb_11ea_a524_a44cc85d9493row30_col0\" class=\"data row30 col0\" >953609</td>\n",
       "            </tr>\n",
       "            <tr>\n",
       "                        <th id=\"T_134eb26e_f1bb_11ea_a524_a44cc85d9493level0_row31\" class=\"row_heading level0 row31\" >BEAUTY</th>\n",
       "                        <td id=\"T_134eb26e_f1bb_11ea_a524_a44cc85d9493row31_col0\" class=\"data row31 col0\" >395133</td>\n",
       "            </tr>\n",
       "            <tr>\n",
       "                        <th id=\"T_134eb26e_f1bb_11ea_a524_a44cc85d9493level0_row32\" class=\"row_heading level0 row32\" >EVENTS</th>\n",
       "                        <td id=\"T_134eb26e_f1bb_11ea_a524_a44cc85d9493row32_col0\" class=\"data row32 col0\" >160590</td>\n",
       "            </tr>\n",
       "    </tbody></table>"
      ],
      "text/plain": [
       "<pandas.io.formats.style.Styler at 0x204f478c7c8>"
      ]
     },
     "execution_count": 47,
     "metadata": {},
     "output_type": "execute_result"
    }
   ],
   "source": [
    "top_developers_df.style.bar()"
   ]
  },
  {
   "cell_type": "code",
   "execution_count": null,
   "metadata": {},
   "outputs": [],
   "source": []
  }
 ],
 "metadata": {
  "kernelspec": {
   "display_name": "Python 3",
   "language": "python",
   "name": "python3"
  },
  "language_info": {
   "codemirror_mode": {
    "name": "ipython",
    "version": 3
   },
   "file_extension": ".py",
   "mimetype": "text/x-python",
   "name": "python",
   "nbconvert_exporter": "python",
   "pygments_lexer": "ipython3",
   "version": "3.7.6"
  }
 },
 "nbformat": 4,
 "nbformat_minor": 4
}

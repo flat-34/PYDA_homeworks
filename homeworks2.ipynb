{
 "cells": [
  {
   "cell_type": "markdown",
   "metadata": {},
   "source": [
    "### 1 задание:\n",
    "Даны 2 строки: long_phrase и short_phrase. Напишите код, который проверяет действительно ли длинная фраза long_phrase длиннее короткой short_phrase.  И выводит True или False в зависимости от результата сравнения."
   ]
  },
  {
   "cell_type": "code",
   "execution_count": 8,
   "metadata": {},
   "outputs": [
    {
     "name": "stdout",
     "output_type": "stream",
     "text": [
      " TRUE \n",
      " Kонец задания 1)\n"
     ]
    }
   ],
   "source": [
    "long_phrase = 'Насколько проще было бы писать программы, если бы не заказчики'\n",
    "short_phrase = '640Кб должно хватить для любых задач. Билл Гейтс (по легенде)'\n",
    "if long_phrase > short_phrase:\n",
    "        print (' TRUE ')\n",
    "else:\n",
    "        print (' False ')\n",
    "        \n",
    "print (' Kонец задания 1)')"
   ]
  },
  {
   "cell_type": "markdown",
   "metadata": {},
   "source": [
    "### 2 задание:\n",
    "Дано значение объема файла в байтах (в мегабайте 2^20 байт). Напишите перевод этого значения в мегабайты в формате: \"Объем файла равен 213.68Mb\"."
   ]
  },
  {
   "cell_type": "code",
   "execution_count": 44,
   "metadata": {},
   "outputs": [
    {
     "name": "stdout",
     "output_type": "stream",
     "text": [
      "Объём файла: 213.68\n",
      "Перевести в байты (b) или мегабайты (mb): b\n",
      "Объем файла равен: 213.680000 мб = 224059719.680000 байт\n"
     ]
    }
   ],
   "source": [
    "n = float(input(\"Объём файла: \"))\n",
    "c = input(\"Перевести в байты (b) или мегабайты (mb): \")\n",
    "if c == 'b':\n",
    "    print(\"Объем файла равен: %2f мб = %f байт\" % (n, n*2**20))\n",
    "elif c == 'mb':\n",
    "    print(\"%d байт = %.2fмб\" % (n, n/2**20))\n",
    "\n",
    "\n",
    "\n"
   ]
  },
  {
   "cell_type": "markdown",
   "metadata": {},
   "source": [
    "### Задание 3. \n",
    "Разработать приложение для определения знака зодиака по дате рождения"
   ]
  },
  {
   "cell_type": "code",
   "execution_count": 3,
   "metadata": {},
   "outputs": [
    {
     "name": "stdout",
     "output_type": "stream",
     "text": [
      " Введите месяц:  Декабрь\n",
      " Введите число:  13\n",
      "Вывод: Стрелец\n"
     ]
    }
   ],
   "source": [
    "q=str(input(\" Введите месяц:  \"))\n",
    "w=int(input(\" Введите число:  \"))\n",
    "if q=='Март' and w>=21 and w<=31:\n",
    "    print(\"Вывод: Овен\")\n",
    "elif q=='Апрель' and w>=1 and w<=20:\n",
    "    print(\"Вывод: Овен\")\n",
    "elif q=='Апрель' and w>=21 and w<=31:\n",
    "    print(\"Вывод: Телец\")\n",
    "elif q=='Май' and w>=1 and w <=20:\n",
    "    print(\"Вывод:Телец\")\n",
    "elif q=='Май' and w>=21 and w<=31:\n",
    "    print(\"Вывод: Близнецы\")\n",
    "elif q=='Июнь' and w>=1 and w<=21:\n",
    "    print(\"Вывод: Близнецы\")\n",
    "elif q=='Июнь' and w>=22 and w<=31:\n",
    "    print(\"Вывод: Рак\")\n",
    "elif q=='Июль' and w>=1 and w<=22:\n",
    "    print(\"Вывод: Рак\")\n",
    "elif q=='Июль' and w>=23 and w<=31:\n",
    "    print(\"Вывод: Лев\")\n",
    "elif q=='Август' and w>=1 and w<=23:\n",
    "    print(\"Вывод: Лев\")\n",
    "elif q=='Август' and w>=24 and w<=31:\n",
    "    print(\"Вывод: Дева\")\n",
    "elif q=='Сентябрь' and w>=1 and w<=23:\n",
    "    print(\"Вывод: Дева\")\n",
    "elif q=='Сентябрь' and w>=24 and w<=31:\n",
    "    print(\"Вывод: Весы\")\n",
    "elif q=='Октябрь' and w>=1 and w<=23:\n",
    "    print(\"Вывод: Весы\")\n",
    "elif q=='Октябрь' and w>=24 and w<=31:\n",
    "    print(\"Вывод: Скорпион\")\n",
    "elif q=='Ноябрь' and w>=1 and w<=22:\n",
    "    print(\"Вывод: Скорпион\")\n",
    "elif q=='Ноябрь' and w>=23 and w<=31:\n",
    "    print(\"Вывод: Стрелец\")\n",
    "elif q=='Декабрь' and w>=1 and w<=21:\n",
    "    print(\"Вывод: Стрелец\")\n",
    "elif q=='Декабрь' and w>=22 and w<=31:\n",
    "    print(\"Вывод: Козерог\")\n",
    "elif q=='Январь' and w>=1 and w<=20:\n",
    "    print(\"Вывод: Козерог\")\n",
    "elif q=='Январь' and w>=21 and w<=31:\n",
    "    print(\"Вывод: Водолей\")\n",
    "elif q=='Февраль' and w>=1 and w<=20:\n",
    "    print(\"Вывод: Водолей\")\n",
    "elif q=='Февраль' and w>=21 and w<=29:\n",
    "    print(\"Вывод: Рыбы\")\n",
    "elif q=='Март' and w>=1 and w<=20:\n",
    "    print(\"Вывод: Рыбы\")\n",
    "\n"
   ]
  },
  {
   "cell_type": "markdown",
   "metadata": {},
   "source": [
    "### Задание 4. \n",
    "Нужно разработать приложение для финансового планирования. Приложение учитывает сколько уходит на ипотеку, \"на жизнь\" и сколько нужно отложить на пенсию"
   ]
  },
  {
   "cell_type": "code",
   "execution_count": null,
   "metadata": {},
   "outputs": [],
   "source": []
  }
 ],
 "metadata": {
  "kernelspec": {
   "display_name": "Python 3",
   "language": "python",
   "name": "python3"
  },
  "language_info": {
   "codemirror_mode": {
    "name": "ipython",
    "version": 3
   },
   "file_extension": ".py",
   "mimetype": "text/x-python",
   "name": "python",
   "nbconvert_exporter": "python",
   "pygments_lexer": "ipython3",
   "version": "3.7.6"
  }
 },
 "nbformat": 4,
 "nbformat_minor": 4
}

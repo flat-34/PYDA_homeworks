{
 "cells": [
  {
   "cell_type": "code",
   "execution_count": 10,
   "metadata": {},
   "outputs": [],
   "source": [
    "import requests\n",
    "from bs4 import BeautifulSoup\n",
    "import pandas as pd\n",
    "import datetime as dt\n",
    "import json"
   ]
  },
  {
   "cell_type": "code",
   "execution_count": 14,
   "metadata": {},
   "outputs": [
    {
     "ename": "SyntaxError",
     "evalue": "invalid syntax (<ipython-input-14-121da2664e6e>, line 19)",
     "output_type": "error",
     "traceback": [
      "\u001b[1;36m  File \u001b[1;32m\"<ipython-input-14-121da2664e6e>\"\u001b[1;36m, line \u001b[1;32m19\u001b[0m\n\u001b[1;33m    post_time.append soup.find('span', class_='post__time').get_text()\u001b[0m\n\u001b[1;37m                        ^\u001b[0m\n\u001b[1;31mSyntaxError\u001b[0m\u001b[1;31m:\u001b[0m invalid syntax\n"
     ]
    }
   ],
   "source": [
    "keywords = ['python', 'парсинг']\n",
    "\n",
    "post_time = []\n",
    "title = []\n",
    "article_url = []\n",
    "url_list= []\n",
    "\n",
    "for url in BeautifulSoup(requests.get('https://habr.com/ru/all/').text, 'html.parser').find\\\n",
    "('div', class_='content_left js-content_left').find_all('a', class_='post__title_link'):\n",
    "    url_list.append(url.get('href'))\n",
    "\n",
    "for i in url_list: \n",
    "    soup = BeautifulSoup(requests.get(i).text, 'html.parser') \n",
    "\n",
    "    for keyword in keywords: \n",
    "        x = soup.find('div', class_='post__text post__text-html post__text_v1').get_text()\n",
    "\n",
    "        if keyword in x.lower(): \n",
    "            post_time.append soup.find('span', class_='post__time').get_text() \n",
    "            title.append(soup.find('span', class_='post__title-text').get_text()) \n",
    "            article_url.append(url_list)\n",
    "\n",
    "articles_data = pd.DataFrame({'Дата': post_time,'Заголовок': title,'Ссылка': article_url})\n",
    "articles_data"
   ]
  },
  {
   "cell_type": "code",
   "execution_count": null,
   "metadata": {},
   "outputs": [],
   "source": []
  }
 ],
 "metadata": {
  "kernelspec": {
   "display_name": "Python 3",
   "language": "python",
   "name": "python3"
  },
  "language_info": {
   "codemirror_mode": {
    "name": "ipython",
    "version": 3
   },
   "file_extension": ".py",
   "mimetype": "text/x-python",
   "name": "python",
   "nbconvert_exporter": "python",
   "pygments_lexer": "ipython3",
   "version": "3.7.6"
  }
 },
 "nbformat": 4,
 "nbformat_minor": 4
}

{
 "cells": [
  {
   "cell_type": "code",
   "execution_count": 31,
   "metadata": {},
   "outputs": [],
   "source": [
    "import numpy as np\n",
    "import matplotlib.pyplot as plt\n",
    "\n",
    "%matplotlib inline"
   ]
  },
  {
   "cell_type": "markdown",
   "metadata": {},
   "source": [
    "### Задание 1\n",
    "\n",
    "Дана матрица рейтингов фильмов (строки - пользователи (10 человек), столбцы - фильмы (15 фильмов))"
   ]
  },
  {
   "cell_type": "code",
   "execution_count": 32,
   "metadata": {},
   "outputs": [],
   "source": [
    "raitings = np.array([[ 4,  4,  9,  4,  1,  6, 10,  7,  9,  6,  9,  2,  8,  6,  6],\n",
    "                     [ 9,  2,  5, 10,  7,  8, 10,  5,  6,  2,  1,  6,  8,  9,  7],\n",
    "                     [ 1,  6,  8,  8,  4,  9,  3,  8, 10,  5,  2,  6,  8,  1,  6],\n",
    "                     [ 6,  1,  9,  7,  7,  9,  2,  3,  5,  1,  6,  6,  3,  2,  7],\n",
    "                     [ 3,  7,  3,  5,  7,  9,  9,  6,  2,  9,  1,  2,  8, 10,  6],\n",
    "                     [ 8,  3,  7,  3,  8,  6,  1,  8,  8,  6,  1,  9,  4, 10,  1],\n",
    "                     [ 9,  8,  4,  8,  8, 10,  6,  1,  1,  2,  9,  5,  2,  7,  2],\n",
    "                     [ 4,  1,  6,  4,  3, 10,  4,  4,  2,  8,  7,  9,  3,  8,  3],\n",
    "                     [ 2,  7,  7,  6, 10,  6,  8,  9,  8,  6, 10,  1,  7, 10,  4],\n",
    "                     [ 5, 10,  8,  8,  9,  7,  2,  9,  9, 10,  8,  8,  8,  6, 10]])"
   ]
  },
  {
   "cell_type": "markdown",
   "metadata": {},
   "source": [
    "a) Необходимо найти наиболее похожего пользователя по косинусной метрике для каждого из (ответ: 10 пар вида (x, y), где y - наиболее похожий пользователь на пользователя x)"
   ]
  },
  {
   "cell_type": "code",
   "execution_count": 50,
   "metadata": {},
   "outputs": [
    {
     "name": "stdout",
     "output_type": "stream",
     "text": [
      "На 1 пользователя больше всего похож пользователь 2\n",
      "На 1 пользователя больше всего похож пользователь 3\n",
      "На 1 пользователя больше всего похож пользователь 3\n",
      "На 1 пользователя больше всего похож пользователь 3\n",
      "На 1 пользователя больше всего похож пользователь 3\n",
      "На 1 пользователя больше всего похож пользователь 3\n",
      "На 1 пользователя больше всего похож пользователь 3\n",
      "На 1 пользователя больше всего похож пользователь 9\n",
      "На 1 пользователя больше всего похож пользователь 9\n",
      "На 2 пользователя больше всего похож пользователь 1\n",
      "На 2 пользователя больше всего похож пользователь 1\n",
      "На 2 пользователя больше всего похож пользователь 4\n",
      "На 2 пользователя больше всего похож пользователь 5\n",
      "На 2 пользователя больше всего похож пользователь 5\n",
      "На 2 пользователя больше всего похож пользователь 5\n",
      "На 2 пользователя больше всего похож пользователь 5\n",
      "На 2 пользователя больше всего похож пользователь 5\n",
      "На 2 пользователя больше всего похож пользователь 5\n",
      "На 3 пользователя больше всего похож пользователь 1\n",
      "На 3 пользователя больше всего похож пользователь 1\n",
      "На 3 пользователя больше всего похож пользователь 1\n",
      "На 3 пользователя больше всего похож пользователь 1\n",
      "На 3 пользователя больше всего похож пользователь 1\n",
      "На 3 пользователя больше всего похож пользователь 1\n",
      "На 3 пользователя больше всего похож пользователь 1\n",
      "На 3 пользователя больше всего похож пользователь 1\n",
      "На 3 пользователя больше всего похож пользователь 10\n",
      "На 4 пользователя больше всего похож пользователь 1\n",
      "На 4 пользователя больше всего похож пользователь 2\n",
      "На 4 пользователя больше всего похож пользователь 3\n",
      "На 4 пользователя больше всего похож пользователь 3\n",
      "На 4 пользователя больше всего похож пользователь 3\n",
      "На 4 пользователя больше всего похож пользователь 3\n",
      "На 4 пользователя больше всего похож пользователь 3\n",
      "На 4 пользователя больше всего похож пользователь 3\n",
      "На 4 пользователя больше всего похож пользователь 10\n",
      "На 5 пользователя больше всего похож пользователь 1\n",
      "На 5 пользователя больше всего похож пользователь 2\n",
      "На 5 пользователя больше всего похож пользователь 2\n",
      "На 5 пользователя больше всего похож пользователь 2\n",
      "На 5 пользователя больше всего похож пользователь 2\n",
      "На 5 пользователя больше всего похож пользователь 2\n",
      "На 5 пользователя больше всего похож пользователь 2\n",
      "На 5 пользователя больше всего похож пользователь 9\n",
      "На 5 пользователя больше всего похож пользователь 9\n",
      "На 6 пользователя больше всего похож пользователь 1\n",
      "На 6 пользователя больше всего похож пользователь 2\n",
      "На 6 пользователя больше всего похож пользователь 2\n",
      "На 6 пользователя больше всего похож пользователь 2\n",
      "На 6 пользователя больше всего похож пользователь 2\n",
      "На 6 пользователя больше всего похож пользователь 2\n",
      "На 6 пользователя больше всего похож пользователь 8\n",
      "На 6 пользователя больше всего похож пользователь 8\n",
      "На 6 пользователя больше всего похож пользователь 10\n",
      "На 7 пользователя больше всего похож пользователь 1\n",
      "На 7 пользователя больше всего похож пользователь 2\n",
      "На 7 пользователя больше всего похож пользователь 2\n",
      "На 7 пользователя больше всего похож пользователь 4\n",
      "На 7 пользователя больше всего похож пользователь 4\n",
      "На 7 пользователя больше всего похож пользователь 4\n",
      "На 7 пользователя больше всего похож пользователь 4\n",
      "На 7 пользователя больше всего похож пользователь 4\n",
      "На 7 пользователя больше всего похож пользователь 4\n",
      "На 8 пользователя больше всего похож пользователь 1\n",
      "На 8 пользователя больше всего похож пользователь 1\n",
      "На 8 пользователя больше всего похож пользователь 1\n",
      "На 8 пользователя больше всего похож пользователь 4\n",
      "На 8 пользователя больше всего похож пользователь 4\n",
      "На 8 пользователя больше всего похож пользователь 6\n",
      "На 8 пользователя больше всего похож пользователь 6\n",
      "На 8 пользователя больше всего похож пользователь 6\n",
      "На 8 пользователя больше всего похож пользователь 6\n",
      "На 9 пользователя больше всего похож пользователь 1\n",
      "На 9 пользователя больше всего похож пользователь 1\n",
      "На 9 пользователя больше всего похож пользователь 1\n",
      "На 9 пользователя больше всего похож пользователь 1\n",
      "На 9 пользователя больше всего похож пользователь 1\n",
      "На 9 пользователя больше всего похож пользователь 1\n",
      "На 9 пользователя больше всего похож пользователь 1\n",
      "На 9 пользователя больше всего похож пользователь 1\n",
      "На 9 пользователя больше всего похож пользователь 1\n",
      "На 10 пользователя больше всего похож пользователь 1\n",
      "На 10 пользователя больше всего похож пользователь 1\n",
      "На 10 пользователя больше всего похож пользователь 3\n",
      "На 10 пользователя больше всего похож пользователь 3\n",
      "На 10 пользователя больше всего похож пользователь 3\n",
      "На 10 пользователя больше всего похож пользователь 3\n",
      "На 10 пользователя больше всего похож пользователь 3\n",
      "На 10 пользователя больше всего похож пользователь 3\n",
      "На 10 пользователя больше всего похож пользователь 3\n"
     ]
    }
   ],
   "source": [
    "for i in range(0, 10):\n",
    "    similar = 0\n",
    "    for j in range(0, 10):\n",
    "        if i != j:\n",
    "            x1 = raitings[i]\n",
    "            x2 = raitings[j]\n",
    "\n",
    "            cos = np.dot(x1, x2) / (np.linalg.norm(x1) * np.linalg.norm(x2))\n",
    "            \n",
    "            if cos > similar:\n",
    "                similar = cos\n",
    "                user = j + 1\n",
    "            \n",
    "            print(f'На {i+1} пользователя больше всего похож пользователь {user}')"
   ]
  },
  {
   "cell_type": "code",
   "execution_count": 34,
   "metadata": {},
   "outputs": [
    {
     "name": "stdout",
     "output_type": "stream",
     "text": [
      "Ранг матрицы raitings: 10\n",
      "Ранг сжатой матрицы: 5\n"
     ]
    }
   ],
   "source": [
    "rait = np.array(raitings)\n",
    "U, s, V = np.linalg.svd(rait)\n",
    "S = np.zeros((rait.shape[0], rait.shape[1]))\n",
    "S[:rait.shape[0], :rait.shape[0]] = np.diag(s)\n",
    "n_component = 5\n",
    "S = S[:, :n_component]\n",
    "V = V[:n_component, :]\n",
    "A = U.dot(S.dot(V))\n",
    "\n",
    "r1 = np.linalg.matrix_rank(raitings)\n",
    "r2 = np.linalg.matrix_rank(A)\n",
    "\n",
    "print('Ранг матрицы raitings:', r1)\n",
    "print('Ранг сжатой матрицы:', r2)\n"
   ]
  },
  {
   "cell_type": "code",
   "execution_count": 35,
   "metadata": {},
   "outputs": [
    {
     "data": {
      "text/plain": [
       "55.3859176464222"
      ]
     },
     "execution_count": 35,
     "metadata": {},
     "output_type": "execute_result"
    }
   ],
   "source": [
    "from scipy.misc import derivative\n",
    "\n",
    "def f(x):\n",
    "    return (np.tan(np.sin(x) + np.cos(2*x + 3)))**2\n",
    "\n",
    "derivative(f, 1.0, dx=1e-6)"
   ]
  },
  {
   "attachments": {
    "image.png": {
     "image/png": "[encoded data removed]"
    }
   },
   "cell_type": "markdown",
   "metadata": {},
   "source": [
    "![image.png](attachment:image.png)"
   ]
  },
  {
   "cell_type": "code",
   "execution_count": 36,
   "metadata": {},
   "outputs": [],
   "source": [
    "import matplotlib.pyplot as plt\n",
    "from scipy.optimize import minimize\n",
    "%matplotlib inline"
   ]
  },
  {
   "cell_type": "code",
   "execution_count": 37,
   "metadata": {},
   "outputs": [],
   "source": [
    "def f(x, a, b):\n",
    "    return np.e**a * np.sin(b*x) + x"
   ]
  },
  {
   "cell_type": "code",
   "execution_count": 38,
   "metadata": {},
   "outputs": [],
   "source": [
    "x = np.array([0.        , 0.26315789, 0.52631579, 0.78947368, 1.05263158,\n",
    "              1.31578947, 1.57894737, 1.84210526, 2.10526316, 2.36842105,\n",
    "              2.63157895, 2.89473684, 3.15789474, 3.42105263, 3.68421053,\n",
    "              3.94736842, 4.21052632, 4.47368421, 4.73684211, 5.        ])"
   ]
  },
  {
   "cell_type": "code",
   "execution_count": 39,
   "metadata": {},
   "outputs": [],
   "source": [
    "fx = np.array([  0.        , -12.01819092, -18.90968634, -17.68786571,\n",
    "                -8.7529108 ,   4.27524517,  16.06801336,  21.81250213,\n",
    "                19.22059845,   9.48411207,  -3.22273056, -13.48576488,\n",
    "               -16.91096359, -11.95866834,  -0.58630088,  12.56873816,\n",
    "                22.12489421,  24.20292139,  18.04522521,   6.33211092])"
   ]
  },
  {
   "cell_type": "code",
   "execution_count": 40,
   "metadata": {},
   "outputs": [
    {
     "data": {
      "image/png": "[encoded data removed]",
      "text/plain": [
       "<Figure size 432x288 with 1 Axes>"
      ]
     },
     "metadata": {
      "needs_background": "light"
     },
     "output_type": "display_data"
    }
   ],
   "source": [
    "plt.plot(x, fx)\n",
    "plt.show()"
   ]
  },
  {
   "cell_type": "code",
   "execution_count": 41,
   "metadata": {},
   "outputs": [],
   "source": [
    "def error(params):\n",
    "    return np.sum(np.abs(fx - f(x, params[0], params[1])))"
   ]
  },
  {
   "cell_type": "code",
   "execution_count": 42,
   "metadata": {},
   "outputs": [
    {
     "name": "stdout",
     "output_type": "stream",
     "text": [
      "Optimization terminated successfully.\n",
      "         Current function value: 0.000106\n",
      "         Iterations: 57\n",
      "         Function evaluations: 108\n"
     ]
    },
    {
     "data": {
      "text/plain": [
       "array([ 3.00000022, -2.50000014])"
      ]
     },
     "execution_count": 42,
     "metadata": {},
     "output_type": "execute_result"
    }
   ],
   "source": [
    "params = [2, -2]\n",
    "\n",
    "res = minimize(error, params, method='nelder-mead', options={'xtol': 1e-6, 'disp': True})\n",
    "\n",
    "res.x"
   ]
  },
  {
   "cell_type": "code",
   "execution_count": null,
   "metadata": {},
   "outputs": [],
   "source": []
  },
  {
   "cell_type": "code",
   "execution_count": 44,
   "metadata": {},
   "outputs": [
    {
     "name": "stdout",
     "output_type": "stream",
     "text": [
      "10.0 5.0\n"
     ]
    }
   ],
   "source": [
    "from statistics import mean\n",
    "from scipy.stats import *\n",
    "import random\n",
    "import seaborn\n",
    "\n",
    "# Создайте собственную дискретную случайную величину с 20 значениями.\n",
    "n=20\n",
    "p=0.5\n",
    "# Биномиальное распределение\n",
    "rv = binom(p, n)\n",
    "mean, var, _, _ = binom.stats(n, p, moments='mvsk')\n",
    "print(mean, var)"
   ]
  },
  {
   "cell_type": "code",
   "execution_count": 46,
   "metadata": {},
   "outputs": [
    {
     "name": "stdout",
     "output_type": "stream",
     "text": [
      "Среднее значение равно:9.99582 при размере выборки: 50 и количестве выборок: 1000\n"
     ]
    },
    {
     "data": {
      "image/png": "[encoded data removed]",
      "text/plain": [
       "<Figure size 432x288 with 1 Axes>"
      ]
     },
     "metadata": {
      "needs_background": "light"
     },
     "output_type": "display_data"
    }
   ],
   "source": [
    "# Постройте гистограмму распределения средних.\n",
    "\n",
    "#параметры запуска: размеры выборок и количество повторов генерации\n",
    "n1 = 50\n",
    "samples_count = 1000\n",
    "\n",
    "#массивы для сохранения средних по выборкам\n",
    "a1 = np.array([])\n",
    "\n",
    "for number in range(samples_count):\n",
    "    # на каждом цикле генерируем выборки разных размеров\n",
    "    sample1 = binom.rvs(n=n,p=p,loc=0,size=n1)\n",
    "    mean_i=sum(sample1)/n1#определение выборочного среднего (в.с.)\n",
    "    # считаем среднее по каждой выборке и добавляем в массив средних\n",
    "    a1 = np.append(a1, sample1.mean())\n",
    "\n",
    "#строим графики\n",
    "label_1 = 'sample of ' + str(n1) + ' histogram'\n",
    "plt.hist(a1, density=True, label=label_1)\n",
    "\n",
    "plt.legend()\n",
    "plt.ylabel('samples means')\n",
    "plt.xlabel('$x$')\n",
    "from statistics import mean \n",
    "print(f'Среднее значение равно:{mean(a1)} при размере выборки: {n1} и количестве выборок: {samples_count}')"
   ]
  },
  {
   "cell_type": "code",
   "execution_count": 47,
   "metadata": {},
   "outputs": [
    {
     "data": {
      "text/plain": [
       "(array([ 3., -1.]),\n",
       " array([[ 0.89442719, -0.89442719],\n",
       "        [ 0.4472136 ,  0.4472136 ]]))"
      ]
     },
     "execution_count": 47,
     "metadata": {},
     "output_type": "execute_result"
    }
   ],
   "source": [
    "from scipy import linalg\n",
    "# Собственные вектора методом NumPy получились другие.\n",
    "m = np.array([[1, 4],\n",
    "              [1, 1]])\n",
    "\n",
    "np.linalg.eig(m)"
   ]
  },
  {
   "cell_type": "code",
   "execution_count": null,
   "metadata": {},
   "outputs": [],
   "source": []
  }
 ],
 "metadata": {
  "kernelspec": {
   "display_name": "Python 3",
   "language": "python",
   "name": "python3"
  },
  "language_info": {
   "codemirror_mode": {
    "name": "ipython",
    "version": 3
   },
   "file_extension": ".py",
   "mimetype": "text/x-python",
   "name": "python",
   "nbconvert_exporter": "python",
   "pygments_lexer": "ipython3",
   "version": "3.7.6"
  }
 },
 "nbformat": 4,
 "nbformat_minor": 4
}

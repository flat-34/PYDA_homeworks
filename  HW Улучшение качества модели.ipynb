{
 "cells": [
  {
   "cell_type": "markdown",
   "metadata": {},
   "source": [
    "### Домашнее задание к лекции Улучшение качества модели"
   ]
  },
  {
   "cell_type": "code",
   "execution_count": 2,
   "metadata": {},
   "outputs": [],
   "source": [
    "from sklearn import datasets\n",
    "from matplotlib import pyplot as plt\n",
    "from sklearn.preprocessing import StandardScaler\n",
    "from sklearn.model_selection import train_test_split, GridSearchCV\n",
    "from sklearn.linear_model import Lasso, Ridge, HuberRegressor, ElasticNet\n",
    "from sklearn.tree import DecisionTreeRegressor\n",
    "%matplotlib inline\n",
    "import numpy as np\n",
    "import pandas as pd\n",
    "import random\n"
   ]
  },
  {
   "cell_type": "markdown",
   "metadata": {},
   "source": [
    "###### обеспечиваем воспроизводимость результата"
   ]
  },
  {
   "cell_type": "code",
   "execution_count": 3,
   "metadata": {},
   "outputs": [],
   "source": [
    "random.seed(42)"
   ]
  },
  {
   "cell_type": "code",
   "execution_count": 4,
   "metadata": {},
   "outputs": [
    {
     "name": "stdout",
     "output_type": "stream",
     "text": [
      ".. _boston_dataset:\n",
      "\n",
      "Boston house prices dataset\n",
      "---------------------------\n",
      "\n",
      "**Data Set Characteristics:**  \n",
      "\n",
      "    :Number of Instances: 506 \n",
      "\n",
      "    :Number of Attributes: 13 numeric/categorical predictive. Median Value (attribute 14) is usually the target.\n",
      "\n",
      "    :Attribute Information (in order):\n",
      "        - CRIM     per capita crime rate by town\n",
      "        - ZN       proportion of residential land zoned for lots over 25,000 sq.ft.\n",
      "        - INDUS    proportion of non-retail business acres per town\n",
      "        - CHAS     Charles River dummy variable (= 1 if tract bounds river; 0 otherwise)\n",
      "        - NOX      nitric oxides concentration (parts per 10 million)\n",
      "        - RM       average number of rooms per dwelling\n",
      "        - AGE      proportion of owner-occupied units built prior to 1940\n",
      "        - DIS      weighted distances to five Boston employment centres\n",
      "        - RAD      index of accessibility to radial highways\n",
      "        - TAX      full-value property-tax rate per $10,000\n",
      "        - PTRATIO  pupil-teacher ratio by town\n",
      "        - B        1000(Bk - 0.63)^2 where Bk is the proportion of blacks by town\n",
      "        - LSTAT    % lower status of the population\n",
      "        - MEDV     Median value of owner-occupied homes in $1000's\n",
      "\n",
      "    :Missing Attribute Values: None\n",
      "\n",
      "    :Creator: Harrison, D. and Rubinfeld, D.L.\n",
      "\n",
      "This is a copy of UCI ML housing dataset.\n",
      "https://archive.ics.uci.edu/ml/machine-learning-databases/housing/\n",
      "\n",
      "\n",
      "This dataset was taken from the StatLib library which is maintained at Carnegie Mellon University.\n",
      "\n",
      "The Boston house-price data of Harrison, D. and Rubinfeld, D.L. 'Hedonic\n",
      "prices and the demand for clean air', J. Environ. Economics & Management,\n",
      "vol.5, 81-102, 1978.   Used in Belsley, Kuh & Welsch, 'Regression diagnostics\n",
      "...', Wiley, 1980.   N.B. Various transformations are used in the table on\n",
      "pages 244-261 of the latter.\n",
      "\n",
      "The Boston house-price data has been used in many machine learning papers that address regression\n",
      "problems.   \n",
      "     \n",
      ".. topic:: References\n",
      "\n",
      "   - Belsley, Kuh & Welsch, 'Regression diagnostics: Identifying Influential Data and Sources of Collinearity', Wiley, 1980. 244-261.\n",
      "   - Quinlan,R. (1993). Combining Instance-Based and Model-Based Learning. In Proceedings on the Tenth International Conference of Machine Learning, 236-243, University of Massachusetts, Amherst. Morgan Kaufmann.\n",
      "\n"
     ]
    }
   ],
   "source": [
    "\n",
    "boston = datasets.load_boston()\n",
    "print(boston.DESCR)"
   ]
  },
  {
   "cell_type": "code",
   "execution_count": 5,
   "metadata": {},
   "outputs": [
    {
     "data": {
      "text/plain": [
       "(506, 13)"
      ]
     },
     "execution_count": 5,
     "metadata": {},
     "output_type": "execute_result"
    }
   ],
   "source": [
    "boston.data.shape"
   ]
  },
  {
   "cell_type": "code",
   "execution_count": 6,
   "metadata": {},
   "outputs": [
    {
     "data": {
      "text/html": [
       "<div>\n",
       "<style scoped>\n",
       "    .dataframe tbody tr th:only-of-type {\n",
       "        vertical-align: middle;\n",
       "    }\n",
       "\n",
       "    .dataframe tbody tr th {\n",
       "        vertical-align: top;\n",
       "    }\n",
       "\n",
       "    .dataframe thead th {\n",
       "        text-align: right;\n",
       "    }\n",
       "</style>\n",
       "<table border=\"1\" class=\"dataframe\">\n",
       "  <thead>\n",
       "    <tr style=\"text-align: right;\">\n",
       "      <th></th>\n",
       "      <th>CRIM</th>\n",
       "      <th>ZN</th>\n",
       "      <th>INDUS</th>\n",
       "      <th>CHAS</th>\n",
       "      <th>NOX</th>\n",
       "      <th>RM</th>\n",
       "      <th>AGE</th>\n",
       "      <th>DIS</th>\n",
       "      <th>RAD</th>\n",
       "      <th>TAX</th>\n",
       "      <th>PTRATIO</th>\n",
       "      <th>B</th>\n",
       "      <th>LSTAT</th>\n",
       "    </tr>\n",
       "  </thead>\n",
       "  <tbody>\n",
       "    <tr>\n",
       "      <th>0</th>\n",
       "      <td>0.00632</td>\n",
       "      <td>18.0</td>\n",
       "      <td>2.31</td>\n",
       "      <td>0.0</td>\n",
       "      <td>0.538</td>\n",
       "      <td>6.575</td>\n",
       "      <td>65.2</td>\n",
       "      <td>4.0900</td>\n",
       "      <td>1.0</td>\n",
       "      <td>296.0</td>\n",
       "      <td>15.3</td>\n",
       "      <td>396.90</td>\n",
       "      <td>4.98</td>\n",
       "    </tr>\n",
       "    <tr>\n",
       "      <th>1</th>\n",
       "      <td>0.02731</td>\n",
       "      <td>0.0</td>\n",
       "      <td>7.07</td>\n",
       "      <td>0.0</td>\n",
       "      <td>0.469</td>\n",
       "      <td>6.421</td>\n",
       "      <td>78.9</td>\n",
       "      <td>4.9671</td>\n",
       "      <td>2.0</td>\n",
       "      <td>242.0</td>\n",
       "      <td>17.8</td>\n",
       "      <td>396.90</td>\n",
       "      <td>9.14</td>\n",
       "    </tr>\n",
       "    <tr>\n",
       "      <th>2</th>\n",
       "      <td>0.02729</td>\n",
       "      <td>0.0</td>\n",
       "      <td>7.07</td>\n",
       "      <td>0.0</td>\n",
       "      <td>0.469</td>\n",
       "      <td>7.185</td>\n",
       "      <td>61.1</td>\n",
       "      <td>4.9671</td>\n",
       "      <td>2.0</td>\n",
       "      <td>242.0</td>\n",
       "      <td>17.8</td>\n",
       "      <td>392.83</td>\n",
       "      <td>4.03</td>\n",
       "    </tr>\n",
       "    <tr>\n",
       "      <th>3</th>\n",
       "      <td>0.03237</td>\n",
       "      <td>0.0</td>\n",
       "      <td>2.18</td>\n",
       "      <td>0.0</td>\n",
       "      <td>0.458</td>\n",
       "      <td>6.998</td>\n",
       "      <td>45.8</td>\n",
       "      <td>6.0622</td>\n",
       "      <td>3.0</td>\n",
       "      <td>222.0</td>\n",
       "      <td>18.7</td>\n",
       "      <td>394.63</td>\n",
       "      <td>2.94</td>\n",
       "    </tr>\n",
       "    <tr>\n",
       "      <th>4</th>\n",
       "      <td>0.06905</td>\n",
       "      <td>0.0</td>\n",
       "      <td>2.18</td>\n",
       "      <td>0.0</td>\n",
       "      <td>0.458</td>\n",
       "      <td>7.147</td>\n",
       "      <td>54.2</td>\n",
       "      <td>6.0622</td>\n",
       "      <td>3.0</td>\n",
       "      <td>222.0</td>\n",
       "      <td>18.7</td>\n",
       "      <td>396.90</td>\n",
       "      <td>5.33</td>\n",
       "    </tr>\n",
       "  </tbody>\n",
       "</table>\n",
       "</div>"
      ],
      "text/plain": [
       "      CRIM    ZN  INDUS  CHAS    NOX     RM   AGE     DIS  RAD    TAX  \\\n",
       "0  0.00632  18.0   2.31   0.0  0.538  6.575  65.2  4.0900  1.0  296.0   \n",
       "1  0.02731   0.0   7.07   0.0  0.469  6.421  78.9  4.9671  2.0  242.0   \n",
       "2  0.02729   0.0   7.07   0.0  0.469  7.185  61.1  4.9671  2.0  242.0   \n",
       "3  0.03237   0.0   2.18   0.0  0.458  6.998  45.8  6.0622  3.0  222.0   \n",
       "4  0.06905   0.0   2.18   0.0  0.458  7.147  54.2  6.0622  3.0  222.0   \n",
       "\n",
       "   PTRATIO       B  LSTAT  \n",
       "0     15.3  396.90   4.98  \n",
       "1     17.8  396.90   9.14  \n",
       "2     17.8  392.83   4.03  \n",
       "3     18.7  394.63   2.94  \n",
       "4     18.7  396.90   5.33  "
      ]
     },
     "execution_count": 6,
     "metadata": {},
     "output_type": "execute_result"
    }
   ],
   "source": [
    "df = pd.DataFrame(boston.data, columns=boston.feature_names)\n",
    "df.head(5)"
   ]
  },
  {
   "cell_type": "code",
   "execution_count": 13,
   "metadata": {},
   "outputs": [],
   "source": [
    "X, y = boston['data'], boston['target']"
   ]
  },
  {
   "cell_type": "code",
   "execution_count": 14,
   "metadata": {},
   "outputs": [],
   "source": [
    "X_train, X_valid, y_train, y_valid = train_test_split(X, y, test_size=0.2)"
   ]
  },
  {
   "cell_type": "code",
   "execution_count": 15,
   "metadata": {},
   "outputs": [],
   "source": [
    "sc = StandardScaler()\n",
    "X_train = sc.fit_transform(X_train)\n",
    "X_valid = sc.transform(X_valid)"
   ]
  },
  {
   "cell_type": "markdown",
   "metadata": {},
   "source": [
    "#### Lasso регрессия"
   ]
  },
  {
   "cell_type": "code",
   "execution_count": 16,
   "metadata": {},
   "outputs": [],
   "source": [
    "lasso_reg = Lasso()"
   ]
  },
  {
   "cell_type": "code",
   "execution_count": 17,
   "metadata": {},
   "outputs": [
    {
     "name": "stdout",
     "output_type": "stream",
     "text": [
      "Fitting 10 folds for each of 1000 candidates, totalling 10000 fits\n"
     ]
    },
    {
     "name": "stderr",
     "output_type": "stream",
     "text": [
      "[Parallel(n_jobs=-1)]: Using backend LokyBackend with 4 concurrent workers.\n",
      "[Parallel(n_jobs=-1)]: Done  47 tasks      | elapsed:    1.5s\n",
      "[Parallel(n_jobs=-1)]: Done 6280 tasks      | elapsed:    6.2s\n",
      "[Parallel(n_jobs=-1)]: Done 10000 out of 10000 | elapsed:    8.4s finished\n"
     ]
    },
    {
     "data": {
      "text/plain": [
       "GridSearchCV(cv=10, error_score=nan,\n",
       "             estimator=Lasso(alpha=1.0, copy_X=True, fit_intercept=True,\n",
       "                             max_iter=1000, normalize=False, positive=False,\n",
       "                             precompute=False, random_state=None,\n",
       "                             selection='cyclic', tol=0.0001, warm_start=False),\n",
       "             iid='deprecated', n_jobs=-1,\n",
       "             param_grid={'alpha': array([1.00000000e-07, 1.02096066e-07, 1.04236067e-07, 1.06420924e-07,\n",
       "       1.08651577e-07, 1...\n",
       "       6.74262224e+01, 6.88395207e+01, 7.02824426e+01, 7.17556092e+01,\n",
       "       7.32596543e+01, 7.47952252e+01, 7.63629826e+01, 7.79636013e+01,\n",
       "       7.95977700e+01, 8.12661920e+01, 8.29695852e+01, 8.47086827e+01,\n",
       "       8.64842328e+01, 8.82969996e+01, 9.01477631e+01, 9.20373200e+01,\n",
       "       9.39664831e+01, 9.59360829e+01, 9.79469667e+01, 1.00000000e+02])},\n",
       "             pre_dispatch='2*n_jobs', refit=True, return_train_score=False,\n",
       "             scoring=None, verbose=2)"
      ]
     },
     "execution_count": 17,
     "metadata": {},
     "output_type": "execute_result"
    }
   ],
   "source": [
    "# Для лассо только один параметр можно подобрать - alpha\n",
    "lasso_params = {\n",
    "    'alpha': np.logspace(-7, 2, 1000)\n",
    "}\n",
    "grid_lasso = GridSearchCV(lasso_reg, lasso_params, cv=10, verbose=2, n_jobs=-1)\n",
    "grid_lasso.fit(X_train, y_train)"
   ]
  },
  {
   "cell_type": "code",
   "execution_count": 18,
   "metadata": {},
   "outputs": [
    {
     "name": "stdout",
     "output_type": "stream",
     "text": [
      "{'alpha': 0.016114142772530198}\n",
      "0.655309065334886\n",
      "Lasso(alpha=0.016114142772530198, copy_X=True, fit_intercept=True,\n",
      "      max_iter=1000, normalize=False, positive=False, precompute=False,\n",
      "      random_state=None, selection='cyclic', tol=0.0001, warm_start=False)\n"
     ]
    }
   ],
   "source": [
    "print(grid_lasso.best_params_)\n",
    "print(grid_lasso.best_score_)\n",
    "print(grid_lasso.best_estimator_)"
   ]
  },
  {
   "cell_type": "markdown",
   "metadata": {},
   "source": [
    "#### Rige регрессия"
   ]
  },
  {
   "cell_type": "code",
   "execution_count": 19,
   "metadata": {},
   "outputs": [],
   "source": [
    "rige_reg = Ridge()"
   ]
  },
  {
   "cell_type": "code",
   "execution_count": 20,
   "metadata": {},
   "outputs": [
    {
     "name": "stdout",
     "output_type": "stream",
     "text": [
      "Fitting 10 folds for each of 6000 candidates, totalling 60000 fits\n"
     ]
    },
    {
     "name": "stderr",
     "output_type": "stream",
     "text": [
      "[Parallel(n_jobs=-1)]: Using backend LokyBackend with 4 concurrent workers.\n",
      "[Parallel(n_jobs=-1)]: Done 136 tasks      | elapsed:    0.2s\n",
      "[Parallel(n_jobs=-1)]: Done 7288 tasks      | elapsed:    7.6s\n",
      "[Parallel(n_jobs=-1)]: Done 20280 tasks      | elapsed:   22.0s\n",
      "[Parallel(n_jobs=-1)]: Done 38392 tasks      | elapsed:   39.2s\n",
      "[Parallel(n_jobs=-1)]: Done 59892 tasks      | elapsed:   59.0s\n",
      "[Parallel(n_jobs=-1)]: Done 60000 out of 60000 | elapsed:   59.1s finished\n"
     ]
    },
    {
     "data": {
      "text/plain": [
       "GridSearchCV(cv=10, error_score=nan,\n",
       "             estimator=Ridge(alpha=1.0, copy_X=True, fit_intercept=True,\n",
       "                             max_iter=None, normalize=False, random_state=None,\n",
       "                             solver='auto', tol=0.001),\n",
       "             iid='deprecated', n_jobs=-1,\n",
       "             param_grid={'alpha': array([1.00000000e-07, 1.02096066e-07, 1.04236067e-07, 1.06420924e-07,\n",
       "       1.08651577e-07, 1.10928986e-07, 1.13254132e-07, 1.15628013e-07,\n",
       "       1.18051653e...\n",
       "       7.32596543e+01, 7.47952252e+01, 7.63629826e+01, 7.79636013e+01,\n",
       "       7.95977700e+01, 8.12661920e+01, 8.29695852e+01, 8.47086827e+01,\n",
       "       8.64842328e+01, 8.82969996e+01, 9.01477631e+01, 9.20373200e+01,\n",
       "       9.39664831e+01, 9.59360829e+01, 9.79469667e+01, 1.00000000e+02]),\n",
       "                         'solver': ['svd', 'cholesky', 'lsqr', 'sparse_cg',\n",
       "                                    'sag', 'saga']},\n",
       "             pre_dispatch='2*n_jobs', refit=True, return_train_score=False,\n",
       "             scoring=None, verbose=2)"
      ]
     },
     "execution_count": 20,
     "metadata": {},
     "output_type": "execute_result"
    }
   ],
   "source": [
    "# Для rige-регрессии можно еще перебрать оптимизаторы\n",
    "rige_params = {\n",
    "    'alpha': np.logspace(-7, 2, 1000),\n",
    "    'solver': ['svd', 'cholesky', 'lsqr', 'sparse_cg', 'sag', 'saga']\n",
    "}\n",
    "grid_rige = GridSearchCV(rige_reg, rige_params, cv=10, verbose=2, n_jobs=-1)\n",
    "grid_rige.fit(X_train, y_train)"
   ]
  },
  {
   "cell_type": "code",
   "execution_count": 21,
   "metadata": {},
   "outputs": [
    {
     "name": "stdout",
     "output_type": "stream",
     "text": [
      "{'alpha': 15.783314056521197, 'solver': 'sag'}\n",
      "0.6579271233863541\n",
      "Ridge(alpha=15.783314056521197, copy_X=True, fit_intercept=True, max_iter=None,\n",
      "      normalize=False, random_state=None, solver='sag', tol=0.001)\n"
     ]
    }
   ],
   "source": [
    "print(grid_rige.best_params_)\n",
    "print(grid_rige.best_score_)\n",
    "print(grid_rige.best_estimator_)"
   ]
  },
  {
   "cell_type": "markdown",
   "metadata": {},
   "source": [
    "#### Регрессия Хьюберта "
   ]
  },
  {
   "cell_type": "code",
   "execution_count": 22,
   "metadata": {},
   "outputs": [],
   "source": [
    "huber_reg = HuberRegressor()"
   ]
  },
  {
   "cell_type": "code",
   "execution_count": 23,
   "metadata": {},
   "outputs": [
    {
     "name": "stdout",
     "output_type": "stream",
     "text": [
      "Fitting 10 folds for each of 5000 candidates, totalling 50000 fits\n"
     ]
    },
    {
     "name": "stderr",
     "output_type": "stream",
     "text": [
      "[Parallel(n_jobs=-1)]: Using backend LokyBackend with 4 concurrent workers.\n",
      "[Parallel(n_jobs=-1)]: Done 136 tasks      | elapsed:    0.6s\n",
      "[Parallel(n_jobs=-1)]: Done 2072 tasks      | elapsed:    9.0s\n",
      "[Parallel(n_jobs=-1)]: Done 5320 tasks      | elapsed:   22.7s\n",
      "[Parallel(n_jobs=-1)]: Done 9848 tasks      | elapsed:   38.2s\n",
      "[Parallel(n_jobs=-1)]: Done 15688 tasks      | elapsed:   57.1s\n",
      "[Parallel(n_jobs=-1)]: Done 22808 tasks      | elapsed:  1.3min\n",
      "[Parallel(n_jobs=-1)]: Done 31240 tasks      | elapsed:  1.8min\n",
      "[Parallel(n_jobs=-1)]: Done 40952 tasks      | elapsed:  2.3min\n",
      "[Parallel(n_jobs=-1)]: Done 50000 out of 50000 | elapsed:  2.7min finished\n"
     ]
    },
    {
     "data": {
      "text/plain": [
       "GridSearchCV(cv=10, error_score=nan,\n",
       "             estimator=HuberRegressor(alpha=0.0001, epsilon=1.35,\n",
       "                                      fit_intercept=True, max_iter=100,\n",
       "                                      tol=1e-05, warm_start=False),\n",
       "             iid='deprecated', n_jobs=-1,\n",
       "             param_grid={'alpha': array([1.00000000e-07, 1.23284674e-07, 1.51991108e-07, 1.87381742e-07,\n",
       "       2.31012970e-07, 2.84803587e-07, 3.51119173e-07, 4.32876128e-07,\n",
       "       5.33669923e-07, 6.57933225e-07,...\n",
       "       1.68163265, 1.69489796, 1.70816327, 1.72142857, 1.73469388,\n",
       "       1.74795918, 1.76122449, 1.7744898 , 1.7877551 , 1.80102041,\n",
       "       1.81428571, 1.82755102, 1.84081633, 1.85408163, 1.86734694,\n",
       "       1.88061224, 1.89387755, 1.90714286, 1.92040816, 1.93367347,\n",
       "       1.94693878, 1.96020408, 1.97346939, 1.98673469, 2.        ])},\n",
       "             pre_dispatch='2*n_jobs', refit=True, return_train_score=False,\n",
       "             scoring=None, verbose=2)"
      ]
     },
     "execution_count": 23,
     "metadata": {},
     "output_type": "execute_result"
    }
   ],
   "source": [
    "# Регрессия не быстрая, поэтому сделаем параметров поменьше\n",
    "huber_params = {\n",
    "    'alpha': np.logspace(-7, 2, 100),\n",
    "    'epsilon': np.linspace(1.35, 2, 50)\n",
    "}\n",
    "grid_huber = GridSearchCV(huber_reg, huber_params, cv=10, verbose=2, n_jobs=-1)\n",
    "grid_huber.fit(X_train, y_train)"
   ]
  },
  {
   "cell_type": "code",
   "execution_count": 24,
   "metadata": {},
   "outputs": [
    {
     "name": "stdout",
     "output_type": "stream",
     "text": [
      "{'alpha': 0.08111308307896872, 'epsilon': 1.8408163265306121}\n",
      "0.6552142097308351\n",
      "HuberRegressor(alpha=0.08111308307896872, epsilon=1.8408163265306121,\n",
      "               fit_intercept=True, max_iter=100, tol=1e-05, warm_start=False)\n"
     ]
    }
   ],
   "source": [
    "print(grid_huber.best_params_)\n",
    "print(grid_huber.best_score_)\n",
    "print(grid_huber.best_estimator_)"
   ]
  },
  {
   "cell_type": "markdown",
   "metadata": {},
   "source": [
    "#### ElasticNet регрессия"
   ]
  },
  {
   "cell_type": "code",
   "execution_count": 25,
   "metadata": {},
   "outputs": [],
   "source": [
    "elast_reg = ElasticNet()"
   ]
  },
  {
   "cell_type": "code",
   "execution_count": 26,
   "metadata": {},
   "outputs": [
    {
     "name": "stdout",
     "output_type": "stream",
     "text": [
      "Fitting 10 folds for each of 10000 candidates, totalling 100000 fits\n"
     ]
    },
    {
     "name": "stderr",
     "output_type": "stream",
     "text": [
      "[Parallel(n_jobs=-1)]: Using backend LokyBackend with 4 concurrent workers.\n",
      "[Parallel(n_jobs=-1)]: Done 136 tasks      | elapsed:    0.1s\n",
      "[Parallel(n_jobs=-1)]: Done 7288 tasks      | elapsed:    7.5s\n",
      "[Parallel(n_jobs=-1)]: Done 20280 tasks      | elapsed:   19.0s\n",
      "[Parallel(n_jobs=-1)]: Done 38392 tasks      | elapsed:   35.3s\n",
      "[Parallel(n_jobs=-1)]: Done 61752 tasks      | elapsed:   54.9s\n",
      "[Parallel(n_jobs=-1)]: Done 90232 tasks      | elapsed:  1.3min\n",
      "[Parallel(n_jobs=-1)]: Done 100000 out of 100000 | elapsed:  1.4min finished\n",
      "C:\\Users\\Alexey_Korobzev\\anaconda3\\lib\\site-packages\\sklearn\\linear_model\\_coordinate_descent.py:476: ConvergenceWarning: Objective did not converge. You might want to increase the number of iterations. Duality gap: 4968.648565053605, tolerance: 3.227472938118812\n",
      "  positive)\n"
     ]
    },
    {
     "data": {
      "text/plain": [
       "GridSearchCV(cv=10, error_score=nan,\n",
       "             estimator=ElasticNet(alpha=1.0, copy_X=True, fit_intercept=True,\n",
       "                                  l1_ratio=0.5, max_iter=1000, normalize=False,\n",
       "                                  positive=False, precompute=False,\n",
       "                                  random_state=None, selection='cyclic',\n",
       "                                  tol=0.0001, warm_start=False),\n",
       "             iid='deprecated', n_jobs=-1,\n",
       "             param_grid={'alpha': array([1.00000000e-07, 1.10975250e-07, 1.23155060e-07, 1.36671636e-0...\n",
       "       0.51020408, 0.53061224, 0.55102041, 0.57142857, 0.59183673,\n",
       "       0.6122449 , 0.63265306, 0.65306122, 0.67346939, 0.69387755,\n",
       "       0.71428571, 0.73469388, 0.75510204, 0.7755102 , 0.79591837,\n",
       "       0.81632653, 0.83673469, 0.85714286, 0.87755102, 0.89795918,\n",
       "       0.91836735, 0.93877551, 0.95918367, 0.97959184, 1.        ])},\n",
       "             pre_dispatch='2*n_jobs', refit=True, return_train_score=False,\n",
       "             scoring=None, verbose=2)"
      ]
     },
     "execution_count": 26,
     "metadata": {},
     "output_type": "execute_result"
    }
   ],
   "source": [
    "elast_params = {\n",
    "    'alpha': np.logspace(-7, 2, 200),\n",
    "    'l1_ratio': np.linspace(0, 1, 50)\n",
    "}\n",
    "grid_elast = GridSearchCV(elast_reg, elast_params, cv=10, verbose=2, n_jobs=-1)\n",
    "grid_elast.fit(X_train, y_train)"
   ]
  },
  {
   "cell_type": "code",
   "execution_count": 27,
   "metadata": {},
   "outputs": [
    {
     "name": "stdout",
     "output_type": "stream",
     "text": [
      "{'alpha': 0.04500557675700498, 'l1_ratio': 0.0}\n",
      "0.6577370511273519\n",
      "ElasticNet(alpha=0.04500557675700498, copy_X=True, fit_intercept=True,\n",
      "           l1_ratio=0.0, max_iter=1000, normalize=False, positive=False,\n",
      "           precompute=False, random_state=None, selection='cyclic', tol=0.0001,\n",
      "           warm_start=False)\n"
     ]
    }
   ],
   "source": [
    "print(grid_elast.best_params_)\n",
    "print(grid_elast.best_score_)\n",
    "print(grid_elast.best_estimator_)"
   ]
  },
  {
   "cell_type": "markdown",
   "metadata": {},
   "source": [
    "###### Как и регрессия Хьюберта объединяет l1 и l2 регуляризации и судя по выбранному параметру l1_ratio, модель скатилась к l2-регуляризации"
   ]
  },
  {
   "cell_type": "markdown",
   "metadata": {},
   "source": [
    "###### На Кегле для этой задачи используют DecisionTree"
   ]
  },
  {
   "cell_type": "code",
   "execution_count": 28,
   "metadata": {},
   "outputs": [],
   "source": [
    "tree_reg = DecisionTreeRegressor()"
   ]
  },
  {
   "cell_type": "code",
   "execution_count": 29,
   "metadata": {},
   "outputs": [
    {
     "name": "stdout",
     "output_type": "stream",
     "text": [
      "Fitting 10 folds for each of 300 candidates, totalling 3000 fits\n"
     ]
    },
    {
     "name": "stderr",
     "output_type": "stream",
     "text": [
      "[Parallel(n_jobs=-1)]: Using backend LokyBackend with 4 concurrent workers.\n",
      "[Parallel(n_jobs=-1)]: Done  38 tasks      | elapsed:    2.1s\n",
      "[Parallel(n_jobs=-1)]: Done 3000 out of 3000 | elapsed:    8.9s finished\n"
     ]
    },
    {
     "data": {
      "text/plain": [
       "GridSearchCV(cv=10, error_score=nan,\n",
       "             estimator=DecisionTreeRegressor(ccp_alpha=0.0, criterion='mse',\n",
       "                                             max_depth=None, max_features=None,\n",
       "                                             max_leaf_nodes=None,\n",
       "                                             min_impurity_decrease=0.0,\n",
       "                                             min_impurity_split=None,\n",
       "                                             min_samples_leaf=1,\n",
       "                                             min_samples_split=2,\n",
       "                                             min_weight_fraction_leaf=0.0,\n",
       "                                             presort='deprecated',\n",
       "                                             random_state=None,\n",
       "                                             splitter='best'),\n",
       "             iid='deprecated', n_jobs=-1,\n",
       "             param_grid={'criterion': ['mse', 'mae', 'friedman_mse'],\n",
       "                         'max_depth': range(1, 11),\n",
       "                         'min_samples_leaf': [1, 2, 4, 8, 16],\n",
       "                         'splitter': ['best', 'random']},\n",
       "             pre_dispatch='2*n_jobs', refit=True, return_train_score=False,\n",
       "             scoring=None, verbose=2)"
      ]
     },
     "execution_count": 29,
     "metadata": {},
     "output_type": "execute_result"
    }
   ],
   "source": [
    "tree_params = {\n",
    "    'max_depth': range(1, 11),\n",
    "    'splitter': ['best', 'random'],\n",
    "    'criterion': ['mse', 'mae', 'friedman_mse'],\n",
    "    'min_samples_leaf': [1, 2, 4, 8, 16]\n",
    "}\n",
    "grid_tree = GridSearchCV(tree_reg, tree_params, cv=10, verbose=2, n_jobs=-1)\n",
    "grid_tree.fit(X_train, y_train)"
   ]
  },
  {
   "cell_type": "code",
   "execution_count": 30,
   "metadata": {},
   "outputs": [
    {
     "name": "stdout",
     "output_type": "stream",
     "text": [
      "{'criterion': 'mae', 'max_depth': 7, 'min_samples_leaf': 4, 'splitter': 'random'}\n",
      "0.7702446248211059\n",
      "DecisionTreeRegressor(ccp_alpha=0.0, criterion='mae', max_depth=7,\n",
      "                      max_features=None, max_leaf_nodes=None,\n",
      "                      min_impurity_decrease=0.0, min_impurity_split=None,\n",
      "                      min_samples_leaf=4, min_samples_split=2,\n",
      "                      min_weight_fraction_leaf=0.0, presort='deprecated',\n",
      "                      random_state=None, splitter='random')\n"
     ]
    }
   ],
   "source": [
    "print(grid_tree.best_params_)\n",
    "print(grid_tree.best_score_)\n",
    "print(grid_tree.best_estimator_)"
   ]
  },
  {
   "cell_type": "markdown",
   "metadata": {},
   "source": [
    "##### На трейн данных пока лучше всех себя показало дерево"
   ]
  },
  {
   "cell_type": "markdown",
   "metadata": {},
   "source": [
    "###### Сравниваем на валидационной выборке"
   ]
  },
  {
   "cell_type": "code",
   "execution_count": 31,
   "metadata": {},
   "outputs": [],
   "source": [
    "estimators = {\n",
    "    'lasso': grid_lasso,\n",
    "    'rige': grid_rige,\n",
    "    'huber': grid_huber,\n",
    "    'elasticNet': grid_elast,\n",
    "    'tree': grid_tree\n",
    "}"
   ]
  },
  {
   "cell_type": "code",
   "execution_count": 32,
   "metadata": {},
   "outputs": [
    {
     "name": "stdout",
     "output_type": "stream",
     "text": [
      "lasso CV R^2: 0.655309065334886 Validation R^2: 0.7929627070087246\n",
      "rige CV R^2: 0.6579271233863541 Validation R^2: 0.7934203333356671\n",
      "huber CV R^2: 0.6552142097308351 Validation R^2: 0.7854694013868986\n",
      "elasticNet CV R^2: 0.6577370511273519 Validation R^2: 0.7932132448988034\n",
      "tree CV R^2: 0.7702446248211059 Validation R^2: 0.7722953657925012\n"
     ]
    }
   ],
   "source": [
    "for k in estimators:\n",
    "    v = estimators[k]\n",
    "    print(k, \"CV R^2:\", v.best_score_, \"Validation R^2:\", v.best_estimator_.score(X_valid, y_valid))"
   ]
  },
  {
   "cell_type": "markdown",
   "metadata": {},
   "source": [
    "###### Все модели показали на валидационной выборке результаты лучше, чем на тренировочной"
   ]
  },
  {
   "cell_type": "markdown",
   "metadata": {},
   "source": [
    "###### Лучше всего показало себя дерево"
   ]
  },
  {
   "cell_type": "code",
   "execution_count": 35,
   "metadata": {},
   "outputs": [
    {
     "data": {
      "text/html": [
       "<div>\n",
       "<style scoped>\n",
       "    .dataframe tbody tr th:only-of-type {\n",
       "        vertical-align: middle;\n",
       "    }\n",
       "\n",
       "    .dataframe tbody tr th {\n",
       "        vertical-align: top;\n",
       "    }\n",
       "\n",
       "    .dataframe thead th {\n",
       "        text-align: right;\n",
       "    }\n",
       "</style>\n",
       "<table border=\"1\" class=\"dataframe\">\n",
       "  <thead>\n",
       "    <tr style=\"text-align: right;\">\n",
       "      <th></th>\n",
       "      <th>Предсказание</th>\n",
       "      <th>Реальность</th>\n",
       "      <th>Разница</th>\n",
       "      <th>Разница, %</th>\n",
       "    </tr>\n",
       "  </thead>\n",
       "  <tbody>\n",
       "    <tr>\n",
       "      <th>0</th>\n",
       "      <td>27.90</td>\n",
       "      <td>10.4</td>\n",
       "      <td>-17.50</td>\n",
       "      <td>-168.269231</td>\n",
       "    </tr>\n",
       "    <tr>\n",
       "      <th>1</th>\n",
       "      <td>24.60</td>\n",
       "      <td>25.0</td>\n",
       "      <td>0.40</td>\n",
       "      <td>1.600000</td>\n",
       "    </tr>\n",
       "    <tr>\n",
       "      <th>2</th>\n",
       "      <td>14.60</td>\n",
       "      <td>15.6</td>\n",
       "      <td>1.00</td>\n",
       "      <td>6.410256</td>\n",
       "    </tr>\n",
       "    <tr>\n",
       "      <th>3</th>\n",
       "      <td>13.75</td>\n",
       "      <td>19.1</td>\n",
       "      <td>5.35</td>\n",
       "      <td>28.010471</td>\n",
       "    </tr>\n",
       "    <tr>\n",
       "      <th>4</th>\n",
       "      <td>20.60</td>\n",
       "      <td>23.7</td>\n",
       "      <td>3.10</td>\n",
       "      <td>13.080169</td>\n",
       "    </tr>\n",
       "    <tr>\n",
       "      <th>5</th>\n",
       "      <td>50.00</td>\n",
       "      <td>23.9</td>\n",
       "      <td>-26.10</td>\n",
       "      <td>-109.205021</td>\n",
       "    </tr>\n",
       "    <tr>\n",
       "      <th>6</th>\n",
       "      <td>23.45</td>\n",
       "      <td>23.0</td>\n",
       "      <td>-0.45</td>\n",
       "      <td>-1.956522</td>\n",
       "    </tr>\n",
       "    <tr>\n",
       "      <th>7</th>\n",
       "      <td>36.85</td>\n",
       "      <td>46.7</td>\n",
       "      <td>9.85</td>\n",
       "      <td>21.092077</td>\n",
       "    </tr>\n",
       "    <tr>\n",
       "      <th>8</th>\n",
       "      <td>33.05</td>\n",
       "      <td>33.0</td>\n",
       "      <td>-0.05</td>\n",
       "      <td>-0.151515</td>\n",
       "    </tr>\n",
       "    <tr>\n",
       "      <th>9</th>\n",
       "      <td>19.90</td>\n",
       "      <td>20.8</td>\n",
       "      <td>0.90</td>\n",
       "      <td>4.326923</td>\n",
       "    </tr>\n",
       "    <tr>\n",
       "      <th>10</th>\n",
       "      <td>19.80</td>\n",
       "      <td>18.5</td>\n",
       "      <td>-1.30</td>\n",
       "      <td>-7.027027</td>\n",
       "    </tr>\n",
       "    <tr>\n",
       "      <th>11</th>\n",
       "      <td>45.40</td>\n",
       "      <td>41.7</td>\n",
       "      <td>-3.70</td>\n",
       "      <td>-8.872902</td>\n",
       "    </tr>\n",
       "    <tr>\n",
       "      <th>12</th>\n",
       "      <td>11.80</td>\n",
       "      <td>11.9</td>\n",
       "      <td>0.10</td>\n",
       "      <td>0.840336</td>\n",
       "    </tr>\n",
       "    <tr>\n",
       "      <th>13</th>\n",
       "      <td>30.00</td>\n",
       "      <td>26.6</td>\n",
       "      <td>-3.40</td>\n",
       "      <td>-12.781955</td>\n",
       "    </tr>\n",
       "    <tr>\n",
       "      <th>14</th>\n",
       "      <td>14.20</td>\n",
       "      <td>13.4</td>\n",
       "      <td>-0.80</td>\n",
       "      <td>-5.970149</td>\n",
       "    </tr>\n",
       "  </tbody>\n",
       "</table>\n",
       "</div>"
      ],
      "text/plain": [
       "    Предсказание  Реальность  Разница  Разница, %\n",
       "0          27.90        10.4   -17.50 -168.269231\n",
       "1          24.60        25.0     0.40    1.600000\n",
       "2          14.60        15.6     1.00    6.410256\n",
       "3          13.75        19.1     5.35   28.010471\n",
       "4          20.60        23.7     3.10   13.080169\n",
       "5          50.00        23.9   -26.10 -109.205021\n",
       "6          23.45        23.0    -0.45   -1.956522\n",
       "7          36.85        46.7     9.85   21.092077\n",
       "8          33.05        33.0    -0.05   -0.151515\n",
       "9          19.90        20.8     0.90    4.326923\n",
       "10         19.80        18.5    -1.30   -7.027027\n",
       "11         45.40        41.7    -3.70   -8.872902\n",
       "12         11.80        11.9     0.10    0.840336\n",
       "13         30.00        26.6    -3.40  -12.781955\n",
       "14         14.20        13.4    -0.80   -5.970149"
      ]
     },
     "execution_count": 35,
     "metadata": {},
     "output_type": "execute_result"
    }
   ],
   "source": [
    "y_pred = grid_tree.best_estimator_.predict(X_valid)\n",
    "compare = pd.DataFrame(y_pred, columns=['Предсказание'])\n",
    "compare['Реальность'] = y_valid\n",
    "compare['Разница'] = compare['Реальность'] - compare['Предсказание']\n",
    "compare['Разница, %'] = 100*compare['Разница']/compare['Реальность']\n",
    "compare.head(15)"
   ]
  },
  {
   "cell_type": "code",
   "execution_count": 36,
   "metadata": {},
   "outputs": [
    {
     "data": {
      "text/plain": [
       "(30.872483221476507, -168.26923076923077)"
      ]
     },
     "execution_count": 36,
     "metadata": {},
     "output_type": "execute_result"
    }
   ],
   "source": [
    "(compare['Разница, %'].max(), compare['Разница, %'].min())"
   ]
  },
  {
   "cell_type": "markdown",
   "metadata": {},
   "source": [
    "###### Несмотря на хорошее значение R^2, отклонения от предсказания в конкретных случаях могут быть значительными"
   ]
  },
  {
   "cell_type": "code",
   "execution_count": null,
   "metadata": {},
   "outputs": [],
   "source": []
  },
  {
   "cell_type": "code",
   "execution_count": null,
   "metadata": {},
   "outputs": [],
   "source": []
  }
 ],
 "metadata": {
  "kernelspec": {
   "display_name": "Python 3",
   "language": "python",
   "name": "python3"
  },
  "language_info": {
   "codemirror_mode": {
    "name": "ipython",
    "version": 3
   },
   "file_extension": ".py",
   "mimetype": "text/x-python",
   "name": "python",
   "nbconvert_exporter": "python",
   "pygments_lexer": "ipython3",
   "version": "3.7.6"
  }
 },
 "nbformat": 4,
 "nbformat_minor": 4
}
